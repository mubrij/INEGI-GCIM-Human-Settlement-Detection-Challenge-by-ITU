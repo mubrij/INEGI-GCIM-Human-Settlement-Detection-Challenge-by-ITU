{
  "metadata": {
    "kernelspec": {
      "display_name": "Python 3",
      "name": "python3"
    },
    "language_info": {
      "name": "python",
      "version": "3.10.14",
      "mimetype": "text/x-python",
      "codemirror_mode": {
        "name": "ipython",
        "version": 3
      },
      "pygments_lexer": "ipython3",
      "nbconvert_exporter": "python",
      "file_extension": ".py"
    },
    "kaggle": {
      "accelerator": "none",
      "dataSources": [],
      "dockerImageVersionId": 30776,
      "isInternetEnabled": true,
      "language": "python",
      "sourceType": "notebook",
      "isGpuEnabled": false
    },
    "colab": {
      "provenance": [],
      "gpuType": "T4"
    },
    "accelerator": "GPU",
    "widgets": {
      "application/vnd.jupyter.widget-state+json": {
        "5c81131d26c74341b767cb47dabcd503": {
          "model_module": "@jupyter-widgets/controls",
          "model_name": "HBoxModel",
          "model_module_version": "1.5.0",
          "state": {
            "_dom_classes": [],
            "_model_module": "@jupyter-widgets/controls",
            "_model_module_version": "1.5.0",
            "_model_name": "HBoxModel",
            "_view_count": null,
            "_view_module": "@jupyter-widgets/controls",
            "_view_module_version": "1.5.0",
            "_view_name": "HBoxView",
            "box_style": "",
            "children": [
              "IPY_MODEL_e6df5bea88c14454a293d7e5b97fc7e3",
              "IPY_MODEL_20363b74d5084e63bac8673c860769cd",
              "IPY_MODEL_7a2d342b76e4498cbafecf2f0c568e7d"
            ],
            "layout": "IPY_MODEL_3e8b39759ec84a5a9e210bd8bf8867b1"
          }
        },
        "e6df5bea88c14454a293d7e5b97fc7e3": {
          "model_module": "@jupyter-widgets/controls",
          "model_name": "HTMLModel",
          "model_module_version": "1.5.0",
          "state": {
            "_dom_classes": [],
            "_model_module": "@jupyter-widgets/controls",
            "_model_module_version": "1.5.0",
            "_model_name": "HTMLModel",
            "_view_count": null,
            "_view_module": "@jupyter-widgets/controls",
            "_view_module_version": "1.5.0",
            "_view_name": "HTMLView",
            "description": "",
            "description_tooltip": null,
            "layout": "IPY_MODEL_fb6912a6f14444a9966d64ad7ea26790",
            "placeholder": "​",
            "style": "IPY_MODEL_a8026dfd66554985b3481c05ec0777ed",
            "value": "model.safetensors: 100%"
          }
        },
        "20363b74d5084e63bac8673c860769cd": {
          "model_module": "@jupyter-widgets/controls",
          "model_name": "FloatProgressModel",
          "model_module_version": "1.5.0",
          "state": {
            "_dom_classes": [],
            "_model_module": "@jupyter-widgets/controls",
            "_model_module_version": "1.5.0",
            "_model_name": "FloatProgressModel",
            "_view_count": null,
            "_view_module": "@jupyter-widgets/controls",
            "_view_module_version": "1.5.0",
            "_view_name": "ProgressView",
            "bar_style": "success",
            "description": "",
            "description_tooltip": null,
            "layout": "IPY_MODEL_ecd32a20684b4678b5d4f2becdb93009",
            "max": 346284714,
            "min": 0,
            "orientation": "horizontal",
            "style": "IPY_MODEL_93ddcb2413994aedb2de35cd723b3b96",
            "value": 346284714
          }
        },
        "7a2d342b76e4498cbafecf2f0c568e7d": {
          "model_module": "@jupyter-widgets/controls",
          "model_name": "HTMLModel",
          "model_module_version": "1.5.0",
          "state": {
            "_dom_classes": [],
            "_model_module": "@jupyter-widgets/controls",
            "_model_module_version": "1.5.0",
            "_model_name": "HTMLModel",
            "_view_count": null,
            "_view_module": "@jupyter-widgets/controls",
            "_view_module_version": "1.5.0",
            "_view_name": "HTMLView",
            "description": "",
            "description_tooltip": null,
            "layout": "IPY_MODEL_3b4073abb0db4cff8dbf928a63988f10",
            "placeholder": "​",
            "style": "IPY_MODEL_b283ff95edc34bc09801b235507f759e",
            "value": " 346M/346M [00:04&lt;00:00, 186MB/s]"
          }
        },
        "3e8b39759ec84a5a9e210bd8bf8867b1": {
          "model_module": "@jupyter-widgets/base",
          "model_name": "LayoutModel",
          "model_module_version": "1.2.0",
          "state": {
            "_model_module": "@jupyter-widgets/base",
            "_model_module_version": "1.2.0",
            "_model_name": "LayoutModel",
            "_view_count": null,
            "_view_module": "@jupyter-widgets/base",
            "_view_module_version": "1.2.0",
            "_view_name": "LayoutView",
            "align_content": null,
            "align_items": null,
            "align_self": null,
            "border": null,
            "bottom": null,
            "display": null,
            "flex": null,
            "flex_flow": null,
            "grid_area": null,
            "grid_auto_columns": null,
            "grid_auto_flow": null,
            "grid_auto_rows": null,
            "grid_column": null,
            "grid_gap": null,
            "grid_row": null,
            "grid_template_areas": null,
            "grid_template_columns": null,
            "grid_template_rows": null,
            "height": null,
            "justify_content": null,
            "justify_items": null,
            "left": null,
            "margin": null,
            "max_height": null,
            "max_width": null,
            "min_height": null,
            "min_width": null,
            "object_fit": null,
            "object_position": null,
            "order": null,
            "overflow": null,
            "overflow_x": null,
            "overflow_y": null,
            "padding": null,
            "right": null,
            "top": null,
            "visibility": null,
            "width": null
          }
        },
        "fb6912a6f14444a9966d64ad7ea26790": {
          "model_module": "@jupyter-widgets/base",
          "model_name": "LayoutModel",
          "model_module_version": "1.2.0",
          "state": {
            "_model_module": "@jupyter-widgets/base",
            "_model_module_version": "1.2.0",
            "_model_name": "LayoutModel",
            "_view_count": null,
            "_view_module": "@jupyter-widgets/base",
            "_view_module_version": "1.2.0",
            "_view_name": "LayoutView",
            "align_content": null,
            "align_items": null,
            "align_self": null,
            "border": null,
            "bottom": null,
            "display": null,
            "flex": null,
            "flex_flow": null,
            "grid_area": null,
            "grid_auto_columns": null,
            "grid_auto_flow": null,
            "grid_auto_rows": null,
            "grid_column": null,
            "grid_gap": null,
            "grid_row": null,
            "grid_template_areas": null,
            "grid_template_columns": null,
            "grid_template_rows": null,
            "height": null,
            "justify_content": null,
            "justify_items": null,
            "left": null,
            "margin": null,
            "max_height": null,
            "max_width": null,
            "min_height": null,
            "min_width": null,
            "object_fit": null,
            "object_position": null,
            "order": null,
            "overflow": null,
            "overflow_x": null,
            "overflow_y": null,
            "padding": null,
            "right": null,
            "top": null,
            "visibility": null,
            "width": null
          }
        },
        "a8026dfd66554985b3481c05ec0777ed": {
          "model_module": "@jupyter-widgets/controls",
          "model_name": "DescriptionStyleModel",
          "model_module_version": "1.5.0",
          "state": {
            "_model_module": "@jupyter-widgets/controls",
            "_model_module_version": "1.5.0",
            "_model_name": "DescriptionStyleModel",
            "_view_count": null,
            "_view_module": "@jupyter-widgets/base",
            "_view_module_version": "1.2.0",
            "_view_name": "StyleView",
            "description_width": ""
          }
        },
        "ecd32a20684b4678b5d4f2becdb93009": {
          "model_module": "@jupyter-widgets/base",
          "model_name": "LayoutModel",
          "model_module_version": "1.2.0",
          "state": {
            "_model_module": "@jupyter-widgets/base",
            "_model_module_version": "1.2.0",
            "_model_name": "LayoutModel",
            "_view_count": null,
            "_view_module": "@jupyter-widgets/base",
            "_view_module_version": "1.2.0",
            "_view_name": "LayoutView",
            "align_content": null,
            "align_items": null,
            "align_self": null,
            "border": null,
            "bottom": null,
            "display": null,
            "flex": null,
            "flex_flow": null,
            "grid_area": null,
            "grid_auto_columns": null,
            "grid_auto_flow": null,
            "grid_auto_rows": null,
            "grid_column": null,
            "grid_gap": null,
            "grid_row": null,
            "grid_template_areas": null,
            "grid_template_columns": null,
            "grid_template_rows": null,
            "height": null,
            "justify_content": null,
            "justify_items": null,
            "left": null,
            "margin": null,
            "max_height": null,
            "max_width": null,
            "min_height": null,
            "min_width": null,
            "object_fit": null,
            "object_position": null,
            "order": null,
            "overflow": null,
            "overflow_x": null,
            "overflow_y": null,
            "padding": null,
            "right": null,
            "top": null,
            "visibility": null,
            "width": null
          }
        },
        "93ddcb2413994aedb2de35cd723b3b96": {
          "model_module": "@jupyter-widgets/controls",
          "model_name": "ProgressStyleModel",
          "model_module_version": "1.5.0",
          "state": {
            "_model_module": "@jupyter-widgets/controls",
            "_model_module_version": "1.5.0",
            "_model_name": "ProgressStyleModel",
            "_view_count": null,
            "_view_module": "@jupyter-widgets/base",
            "_view_module_version": "1.2.0",
            "_view_name": "StyleView",
            "bar_color": null,
            "description_width": ""
          }
        },
        "3b4073abb0db4cff8dbf928a63988f10": {
          "model_module": "@jupyter-widgets/base",
          "model_name": "LayoutModel",
          "model_module_version": "1.2.0",
          "state": {
            "_model_module": "@jupyter-widgets/base",
            "_model_module_version": "1.2.0",
            "_model_name": "LayoutModel",
            "_view_count": null,
            "_view_module": "@jupyter-widgets/base",
            "_view_module_version": "1.2.0",
            "_view_name": "LayoutView",
            "align_content": null,
            "align_items": null,
            "align_self": null,
            "border": null,
            "bottom": null,
            "display": null,
            "flex": null,
            "flex_flow": null,
            "grid_area": null,
            "grid_auto_columns": null,
            "grid_auto_flow": null,
            "grid_auto_rows": null,
            "grid_column": null,
            "grid_gap": null,
            "grid_row": null,
            "grid_template_areas": null,
            "grid_template_columns": null,
            "grid_template_rows": null,
            "height": null,
            "justify_content": null,
            "justify_items": null,
            "left": null,
            "margin": null,
            "max_height": null,
            "max_width": null,
            "min_height": null,
            "min_width": null,
            "object_fit": null,
            "object_position": null,
            "order": null,
            "overflow": null,
            "overflow_x": null,
            "overflow_y": null,
            "padding": null,
            "right": null,
            "top": null,
            "visibility": null,
            "width": null
          }
        },
        "b283ff95edc34bc09801b235507f759e": {
          "model_module": "@jupyter-widgets/controls",
          "model_name": "DescriptionStyleModel",
          "model_module_version": "1.5.0",
          "state": {
            "_model_module": "@jupyter-widgets/controls",
            "_model_module_version": "1.5.0",
            "_model_name": "DescriptionStyleModel",
            "_view_count": null,
            "_view_module": "@jupyter-widgets/base",
            "_view_module_version": "1.2.0",
            "_view_name": "StyleView",
            "description_width": ""
          }
        }
      }
    }
  },
  "nbformat_minor": 0,
  "nbformat": 4,
  "cells": [
    {
      "cell_type": "code",
      "source": [
        "!conda install -y gdown"
      ],
      "metadata": {
        "_uuid": "8f2839f25d086af736a60e9eeb907d3b93b6e0e5",
        "_cell_guid": "b1076dfc-b9ad-4769-8c92-a6c4dae69d19",
        "execution": {
          "iopub.status.busy": "2024-09-24T15:43:41.078624Z",
          "iopub.execute_input": "2024-09-24T15:43:41.078916Z",
          "iopub.status.idle": "2024-09-24T15:45:27.137284Z",
          "shell.execute_reply.started": "2024-09-24T15:43:41.078882Z",
          "shell.execute_reply": "2024-09-24T15:45:27.136170Z"
        },
        "trusted": true,
        "colab": {
          "base_uri": "https://localhost:8080/"
        },
        "id": "v2cKMFKo12B-",
        "outputId": "988b401f-809f-4bc6-a588-0370d3b6175e"
      },
      "execution_count": null,
      "outputs": [
        {
          "output_type": "stream",
          "name": "stdout",
          "text": [
            "/bin/bash: line 1: conda: command not found\n"
          ]
        }
      ]
    },
    {
      "cell_type": "code",
      "source": [
        "!pip install -q timm"
      ],
      "metadata": {
        "colab": {
          "base_uri": "https://localhost:8080/"
        },
        "id": "NkF7Yf_K2EEX",
        "outputId": "22969ee8-e94f-48f0-c30f-b4503a90174e"
      },
      "execution_count": null,
      "outputs": [
        {
          "output_type": "stream",
          "name": "stdout",
          "text": [
            "\u001b[2K     \u001b[90m━━━━━━━━━━━━━━━━━━━━━━━━━━━━━━━━━━━━━━━━\u001b[0m \u001b[32m42.4/42.4 kB\u001b[0m \u001b[31m2.0 MB/s\u001b[0m eta \u001b[36m0:00:00\u001b[0m\n",
            "\u001b[2K   \u001b[90m━━━━━━━━━━━━━━━━━━━━━━━━━━━━━━━━━━━━━━━━\u001b[0m \u001b[32m2.3/2.3 MB\u001b[0m \u001b[31m34.0 MB/s\u001b[0m eta \u001b[36m0:00:00\u001b[0m\n",
            "\u001b[?25h"
          ]
        }
      ]
    },
    {
      "cell_type": "code",
      "source": [
        "import numpy as np\n",
        "import pandas as pd\n",
        "import cv2\n",
        "import random\n",
        "from tqdm import tqdm\n",
        "import h5py\n",
        "import gdown\n",
        "from torchvision import models\n",
        "\n",
        "import os\n",
        "import re\n",
        "\n",
        "import torch\n",
        "import torch.optim as optim\n",
        "from torchvision import transforms\n",
        "\n",
        "from torch.utils.data import Dataset\n",
        "import os\n",
        "\n",
        "from sklearn.metrics import f1_score as sklearn_f1\n",
        "from sklearn.metrics import confusion_matrix\n",
        "import torchvision\n",
        "from sklearn.model_selection import StratifiedKFold\n",
        "from torchvision.transforms import Normalize\n",
        "from torchvision.models.detection.faster_rcnn import FastRCNNPredictor\n",
        "import torch.nn as nn\n",
        "\n",
        "import torch.cuda.amp as amp\n",
        "from torchvision.models.detection import FasterRCNN\n",
        "from torchvision.models.detection.rpn import AnchorGenerator\n",
        "import torch.nn.functional as F\n",
        "from torchvision.ops import nms\n",
        "\n",
        "from torch.utils.data import DataLoader, Dataset\n",
        "from torch.utils.data.sampler import SequentialSampler\n",
        "\n",
        "from matplotlib import pyplot as plt\n",
        "\n",
        "from PIL import Image\n",
        "\n",
        "from sklearn.model_selection import train_test_split\n",
        "import timm\n",
        "from sklearn.metrics import mean_absolute_error\n",
        "import torch.nn.functional as F\n",
        "\n",
        "import albumentations as A\n",
        "from albumentations.pytorch.transforms import ToTensorV2\n",
        "\n",
        "\n",
        "SEED = 777\n",
        "torch.manual_seed(SEED)\n",
        "torch.cuda.manual_seed(SEED)\n",
        "torch.cuda.manual_seed_all(SEED)\n",
        "torch.backends.cudnn.deterministic = True\n",
        "torch.backends.cudnn.benchmark = False\n",
        "np.random.seed(SEED)\n",
        "random.seed(SEED)"
      ],
      "metadata": {
        "execution": {
          "iopub.status.busy": "2024-09-24T15:45:27.139700Z",
          "iopub.execute_input": "2024-09-24T15:45:27.140133Z",
          "iopub.status.idle": "2024-09-24T15:45:39.009196Z",
          "shell.execute_reply.started": "2024-09-24T15:45:27.140070Z",
          "shell.execute_reply": "2024-09-24T15:45:39.008179Z"
        },
        "trusted": true,
        "id": "9D76GeHi12CC",
        "colab": {
          "base_uri": "https://localhost:8080/"
        },
        "outputId": "077ddfb5-47d7-4888-a7d0-3395267d92e3"
      },
      "execution_count": null,
      "outputs": [
        {
          "output_type": "stream",
          "name": "stderr",
          "text": [
            "/usr/local/lib/python3.10/dist-packages/albumentations/__init__.py:13: UserWarning: A new version of Albumentations is available: 1.4.16 (you have 1.4.15). Upgrade using: pip install -U albumentations. To disable automatic update checks, set the environment variable NO_ALBUMENTATIONS_UPDATE to 1.\n",
            "  check_for_updates()\n"
          ]
        }
      ]
    },
    {
      "cell_type": "code",
      "source": [
        "from google.colab import drive\n",
        "drive.mount('/content/drive')"
      ],
      "metadata": {
        "id": "T13uLoPS2T89",
        "colab": {
          "base_uri": "https://localhost:8080/"
        },
        "outputId": "6dcb8ec1-85c5-4dc3-8f81-8a62d353e0b2"
      },
      "execution_count": null,
      "outputs": [
        {
          "output_type": "stream",
          "name": "stdout",
          "text": [
            "Mounted at /content/drive\n"
          ]
        }
      ]
    },
    {
      "cell_type": "code",
      "source": [
        "train_path = \"/content/drive/MyDrive/human_settlement_mapping/train_data.h5\"\n",
        "test_path = \"/content/drive/MyDrive/human_settlement_mapping/test_data.h5\""
      ],
      "metadata": {
        "execution": {
          "iopub.status.busy": "2024-09-24T15:46:48.501043Z",
          "iopub.execute_input": "2024-09-24T15:46:48.501397Z",
          "iopub.status.idle": "2024-09-24T15:46:48.505364Z",
          "shell.execute_reply.started": "2024-09-24T15:46:48.501362Z",
          "shell.execute_reply": "2024-09-24T15:46:48.504520Z"
        },
        "trusted": true,
        "id": "TJ3NlSlq12CE"
      },
      "execution_count": null,
      "outputs": []
    },
    {
      "cell_type": "code",
      "source": [
        "class CFG:\n",
        "    seed = 20\n",
        "    N_folds = 2\n",
        "    train_folds = [0, 1, 2, 3, 4, 5]\n",
        "    device = \"cuda\" if torch.cuda.is_available() else \"cpu\"\n",
        "    apex = True  # use half precision\n",
        "    epochs = 1\n",
        "    weights = torch.tensor([0.206119, 0.793881], dtype=torch.float32)\n",
        "    clip_val = 1000.\n",
        "    batch_size =20\n",
        "    gradient_accumulation_steps = 4\n",
        "    lr = 1e-4\n",
        "    weight_decay = 1e-2\n",
        "    num_workers=os.cpu_count()\n",
        "    mixed_precision = True"
      ],
      "metadata": {
        "execution": {
          "iopub.status.busy": "2024-09-24T15:54:14.858831Z",
          "iopub.execute_input": "2024-09-24T15:54:14.859810Z",
          "iopub.status.idle": "2024-09-24T15:54:14.866439Z",
          "shell.execute_reply.started": "2024-09-24T15:54:14.859750Z",
          "shell.execute_reply": "2024-09-24T15:54:14.865564Z"
        },
        "trusted": true,
        "id": "4VPRS58O12CF"
      },
      "execution_count": null,
      "outputs": []
    },
    {
      "cell_type": "code",
      "source": [
        "class BalancedSatelliteImageDataset(Dataset):\n",
        "    def __init__(self, hdf5_file, indices=None, transform=None, oversample_factor=1):\n",
        "        self.transform = transform\n",
        "        self.oversample_factor = oversample_factor\n",
        "        with h5py.File(hdf5_file, 'r') as hdf:\n",
        "            if indices is not None:\n",
        "                self.images = np.array(hdf['images'])[indices]\n",
        "                self.labels = np.array(hdf['labels'])[indices]\n",
        "            else:\n",
        "                self.images = np.array(hdf['images'])\n",
        "                self.labels = np.array(hdf['labels'])\n",
        "\n",
        "        self.ones_indices = np.where(self.labels == 1)[0]\n",
        "        self.zeros_indices = np.where(self.labels == 0)[0]\n",
        "\n",
        "        if len(self.ones_indices) < len(self.zeros_indices):\n",
        "            self.minority_indices = self.ones_indices\n",
        "            self.majority_indices = self.zeros_indices\n",
        "        else:\n",
        "            self.minority_indices = self.zeros_indices\n",
        "            self.majority_indices = self.ones_indices\n",
        "        self.oversampled_minority_indices = np.repeat(self.minority_indices, self.oversample_factor)\n",
        "        self.balanced_indices = np.concatenate([self.majority_indices, self.oversampled_minority_indices])\n",
        "        np.random.shuffle(self.balanced_indices)\n",
        "\n",
        "        self.resize = transforms.Resize((224, 224))\n",
        "\n",
        "    def __len__(self):\n",
        "        return len(self.balanced_indices)\n",
        "\n",
        "    def __getitem__(self, idx):\n",
        "        true_idx = self.balanced_indices[idx]\n",
        "        image = self.images[true_idx]\n",
        "        label = self.labels[true_idx]\n",
        "        image = np.mean(image, axis=0)  # Average over the channels to reduce to 1 channel\n",
        "        image = torch.tensor(image, dtype=torch.float32).unsqueeze(0)\n",
        "        image = self.resize(image)  # Resize the image to 224x224\n",
        "        if self.transform:\n",
        "            image = self.transform(image)\n",
        "        image = image.permute(0, 2, 1)  # Convert to (channels, height, width) if necessary\n",
        "        return image, torch.tensor(label, dtype=torch.long)"
      ],
      "metadata": {
        "execution": {
          "iopub.status.busy": "2024-09-24T15:54:15.166412Z",
          "iopub.execute_input": "2024-09-24T15:54:15.166797Z",
          "iopub.status.idle": "2024-09-24T15:54:15.179208Z",
          "shell.execute_reply.started": "2024-09-24T15:54:15.166760Z",
          "shell.execute_reply": "2024-09-24T15:54:15.178327Z"
        },
        "trusted": true,
        "id": "zveQH6CK12CF"
      },
      "execution_count": null,
      "outputs": []
    },
    {
      "cell_type": "code",
      "source": [
        "class CustomVisionTransformer(nn.Module):\n",
        "    def __init__(self, num_classes):\n",
        "        super(CustomVisionTransformer, self).__init__()\n",
        "        self.vit = timm.create_model('vit_base_patch16_224', pretrained=True, in_chans=1, num_classes=num_classes)\n",
        "\n",
        "    def forward(self, x):\n",
        "        return self.vit(x)\n",
        "\n",
        "\n",
        "\n",
        "\n",
        "class CustomSwinTransformer(nn.Module):\n",
        "    def __init__(self, num_classes):\n",
        "        super(CustomSwinTransformer, self).__init__()\n",
        "        # Load Swin Transformer and modify to accept 16 channels\n",
        "        self.swin_transformer = timm.create_model('swin_base_patch4_window7_224', pretrained=True, in_chans=1, num_classes=num_classes)\n",
        "\n",
        "    def forward(self, x):\n",
        "        return self.swin_transformer(x)\n"
      ],
      "metadata": {
        "execution": {
          "iopub.status.busy": "2024-09-24T15:54:15.399207Z",
          "iopub.execute_input": "2024-09-24T15:54:15.399618Z",
          "iopub.status.idle": "2024-09-24T15:54:15.414833Z",
          "shell.execute_reply.started": "2024-09-24T15:54:15.399572Z",
          "shell.execute_reply": "2024-09-24T15:54:15.413708Z"
        },
        "trusted": true,
        "id": "bwSien4v12CG"
      },
      "execution_count": null,
      "outputs": []
    },
    {
      "cell_type": "code",
      "source": [
        "class Averager:\n",
        "    def __init__(self):\n",
        "        self.current_total = 0.0\n",
        "        self.iterations = 0.0\n",
        "\n",
        "    def send(self, value):\n",
        "        self.current_total += value\n",
        "        self.iterations += 1\n",
        "\n",
        "    @property\n",
        "    def value(self):\n",
        "        if self.iterations == 0:\n",
        "            return 0\n",
        "        else:\n",
        "            return 1.0 * self.current_total / self.iterations\n",
        "\n",
        "    def reset(self):\n",
        "        self.current_total = 0.0\n",
        "        self.iterations = 0.0"
      ],
      "metadata": {
        "execution": {
          "iopub.status.busy": "2024-09-24T15:54:15.655987Z",
          "iopub.execute_input": "2024-09-24T15:54:15.656970Z",
          "iopub.status.idle": "2024-09-24T15:54:15.664305Z",
          "shell.execute_reply.started": "2024-09-24T15:54:15.656915Z",
          "shell.execute_reply": "2024-09-24T15:54:15.663362Z"
        },
        "trusted": true,
        "id": "kH5Bt7l912CH"
      },
      "execution_count": null,
      "outputs": []
    },
    {
      "cell_type": "code",
      "source": [
        "def train_epoch(cfg, model, train_loader, criterion, optimizer, scheduler, epoch):\n",
        "    model.train()\n",
        "    loss_hist = Averager()\n",
        "    scaler = torch.amp.GradScaler('cuda', enabled=cfg.mixed_precision)\n",
        "    correct = 0\n",
        "    total = 0\n",
        "    steps = 0\n",
        "\n",
        "    pbar = tqdm(enumerate(train_loader), total=len(train_loader), desc=f\"Epoch {epoch + 1}\")\n",
        "    optimizer.zero_grad()\n",
        "\n",
        "    for batch_idx, (inputs, targets) in pbar:\n",
        "        inputs, targets = inputs.to(cfg.device), targets.to(cfg.device)\n",
        "\n",
        "        with torch.amp.autocast('cuda', enabled=cfg.mixed_precision):\n",
        "            outputs = model(inputs)\n",
        "            loss = criterion(outputs, targets)\n",
        "\n",
        "        scaler.scale(loss / cfg.gradient_accumulation_steps).backward()\n",
        "        if (batch_idx + 1) % cfg.gradient_accumulation_steps == 0 or (batch_idx + 1) == len(train_loader):\n",
        "            scaler.unscale_(optimizer)  # Unscale gradients before clipping\n",
        "            torch.nn.utils.clip_grad_norm_(model.parameters(), max_norm=cfg.clip_val)\n",
        "\n",
        "            scaler.step(optimizer)\n",
        "            scaler.update()\n",
        "\n",
        "            if scheduler is not None:\n",
        "                scheduler.step()  # Move scheduler.step() here\n",
        "\n",
        "            optimizer.zero_grad()\n",
        "\n",
        "        loss_hist.send(loss.item())\n",
        "\n",
        "        _, predicted = outputs.max(1)\n",
        "        total += targets.size(0)\n",
        "        correct += predicted.eq(targets).sum().item()\n",
        "\n",
        "        steps += 1\n",
        "        pbar.set_postfix({'Loss': loss_hist.value, 'Acc': 100.*correct/total})\n",
        "\n",
        "    return loss_hist.value, 100.*correct/total\n",
        "\n",
        "\n",
        "def validate(cfg, model, valid_loader, criterion):\n",
        "    model.eval()\n",
        "    loss_hist = Averager()\n",
        "    correct = 0\n",
        "    total = 0\n",
        "\n",
        "    with torch.no_grad():\n",
        "        for batch_idx, (inputs, targets) in enumerate(valid_loader):\n",
        "            inputs, targets = inputs.to(cfg.device), targets.to(cfg.device)\n",
        "\n",
        "            outputs = model(inputs)\n",
        "            loss = criterion(outputs, targets)\n",
        "\n",
        "            loss_hist.send(loss.item())\n",
        "            _, predicted = outputs.max(1)\n",
        "            total += targets.size(0)\n",
        "            correct += predicted.eq(targets).sum().item()\n",
        "\n",
        "    return loss_hist.value, 100.*correct/total\n"
      ],
      "metadata": {
        "execution": {
          "iopub.status.busy": "2024-09-24T15:54:16.650325Z",
          "iopub.execute_input": "2024-09-24T15:54:16.651192Z",
          "iopub.status.idle": "2024-09-24T15:54:16.671917Z",
          "shell.execute_reply.started": "2024-09-24T15:54:16.651135Z",
          "shell.execute_reply": "2024-09-24T15:54:16.671029Z"
        },
        "trusted": true,
        "id": "iTEPbzdR12CH"
      },
      "execution_count": null,
      "outputs": []
    },
    {
      "cell_type": "code",
      "source": [
        "def main():\n",
        "\n",
        "    torch.manual_seed(CFG.seed)\n",
        "    np.random.seed(CFG.seed)\n",
        "\n",
        "    with h5py.File(train_path, 'r') as hdf:\n",
        "        all_labels = np.array(hdf['labels'])\n",
        "        num_samples = len(hdf['images'])\n",
        "\n",
        "    num_classes = np.unique(all_labels).shape[0]\n",
        "\n",
        "    skf = StratifiedKFold(n_splits=CFG.N_folds, shuffle=True, random_state=CFG.seed)\n",
        "\n",
        "    for fold, (train_idx, val_idx) in enumerate(skf.split(np.zeros(num_samples), all_labels)):\n",
        "        print(f\"Fold {fold + 1}\")\n",
        "\n",
        "        train_dataset = BalancedSatelliteImageDataset(train_path, indices=train_idx)\n",
        "        valid_dataset = BalancedSatelliteImageDataset(train_path, indices=val_idx)\n",
        "\n",
        "        train_loader = DataLoader(train_dataset, batch_size=CFG.batch_size, shuffle=True, num_workers=CFG.num_workers, pin_memory=True)\n",
        "        valid_loader = DataLoader(valid_dataset, batch_size=CFG.batch_size, shuffle=False, num_workers=CFG.num_workers, pin_memory=True)\n",
        "\n",
        "        model = CustomVisionTransformer(num_classes)\n",
        "        model = model.to(CFG.device)\n",
        "\n",
        "        criterion = nn.CrossEntropyLoss()\n",
        "        optimizer = optim.AdamW(model.parameters(), lr=CFG.lr, weight_decay=CFG.weight_decay)\n",
        "        scheduler = optim.lr_scheduler.CosineAnnealingLR(optimizer, T_max=CFG.epochs)\n",
        "\n",
        "        best_val_acc = 0\n",
        "        for epoch in range(CFG.epochs):\n",
        "            train_loss, train_acc = train_epoch(CFG, model, train_loader, criterion, optimizer, scheduler, epoch)\n",
        "            val_loss, val_acc = validate(CFG, model, valid_loader, criterion)\n",
        "\n",
        "            print(f\"Epoch {epoch + 1}/{CFG.epochs} Train Loss: {train_loss:.4f}, Train Acc: {train_acc:.4f}% Val Loss: {val_loss:.4f}, Val Acc: {val_acc:.4f}%\")\n",
        "\n",
        "            if val_acc > best_val_acc:\n",
        "                best_val_acc = val_acc\n",
        "                torch.save(model.state_dict(), f'best_model_fold_{fold}.pth')\n",
        "                print(f\"Saved best model with validation accuracy: {best_val_acc:.2f}%\")\n",
        "\n",
        "        print(f\"Best validation accuracy for fold {fold + 1}: {best_val_acc:.2f}%\")\n",
        "\n",
        "if __name__ == \"__main__\":\n",
        "    main()"
      ],
      "metadata": {
        "execution": {
          "iopub.status.busy": "2024-09-24T15:54:17.239169Z",
          "iopub.execute_input": "2024-09-24T15:54:17.239642Z"
        },
        "trusted": true,
        "colab": {
          "referenced_widgets": [
            "5c81131d26c74341b767cb47dabcd503",
            "e6df5bea88c14454a293d7e5b97fc7e3",
            "20363b74d5084e63bac8673c860769cd",
            "7a2d342b76e4498cbafecf2f0c568e7d",
            "3e8b39759ec84a5a9e210bd8bf8867b1",
            "fb6912a6f14444a9966d64ad7ea26790",
            "a8026dfd66554985b3481c05ec0777ed",
            "ecd32a20684b4678b5d4f2becdb93009",
            "93ddcb2413994aedb2de35cd723b3b96",
            "3b4073abb0db4cff8dbf928a63988f10",
            "b283ff95edc34bc09801b235507f759e"
          ],
          "base_uri": "https://localhost:8080/",
          "height": 243
        },
        "id": "gfc4nwKj12CI",
        "outputId": "0364a7f0-42d8-4318-d39d-edd73baf4bf3"
      },
      "execution_count": null,
      "outputs": [
        {
          "metadata": {
            "tags": null
          },
          "name": "stdout",
          "output_type": "stream",
          "text": [
            "Fold 1\n"
          ]
        },
        {
          "metadata": {
            "tags": null
          },
          "name": "stderr",
          "output_type": "stream",
          "text": [
            "/usr/local/lib/python3.10/dist-packages/huggingface_hub/utils/_token.py:89: UserWarning: \n",
            "The secret `HF_TOKEN` does not exist in your Colab secrets.\n",
            "To authenticate with the Hugging Face Hub, create a token in your settings tab (https://huggingface.co/settings/tokens), set it as secret in your Google Colab and restart your session.\n",
            "You will be able to reuse this secret in all of your notebooks.\n",
            "Please note that authentication is recommended but still optional to access public models or datasets.\n",
            "  warnings.warn(\n"
          ]
        },
        {
          "data": {
            "application/vnd.jupyter.widget-view+json": {
              "model_id": "5c81131d26c74341b767cb47dabcd503",
              "version_major": 2,
              "version_minor": 0
            },
            "text/plain": [
              "model.safetensors:   0%|          | 0.00/346M [00:00<?, ?B/s]"
            ]
          },
          "metadata": {},
          "output_type": "display_data"
        },
        {
          "output_type": "stream",
          "name": "stderr",
          "text": [
            "Epoch 1:   0%|          | 3/27500 [00:02<4:16:56,  1.78it/s, Loss=1.45, Acc=11.7]/usr/local/lib/python3.10/dist-packages/torch/optim/lr_scheduler.py:216: UserWarning: Detected call of `lr_scheduler.step()` before `optimizer.step()`. In PyTorch 1.1.0 and later, you should call them in the opposite order: `optimizer.step()` before `lr_scheduler.step()`.  Failure to do this will result in PyTorch skipping the first value of the learning rate schedule. See more details at https://pytorch.org/docs/stable/optim.html#how-to-adjust-learning-rate\n",
            "  warnings.warn(\n",
            "Epoch 1: 100%|██████████| 27500/27500 [1:16:13<00:00,  6.01it/s, Loss=0.296, Acc=90.9]\n"
          ]
        }
      ]
    },
    {
      "cell_type": "code",
      "source": [
        "5"
      ],
      "metadata": {
        "trusted": true,
        "id": "NbqZ12lF12CJ"
      },
      "execution_count": null,
      "outputs": []
    },
    {
      "cell_type": "code",
      "source": [],
      "metadata": {
        "id": "IND0LBH412CK"
      },
      "execution_count": null,
      "outputs": []
    }
  ]
}