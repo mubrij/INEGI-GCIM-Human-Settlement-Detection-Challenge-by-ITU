{
  "cells": [
    {
      "cell_type": "code",
      "execution_count": 1,
      "id": "add1c861",
      "metadata": {
        "execution": {
          "iopub.execute_input": "2024-09-25T15:58:37.586755Z",
          "iopub.status.busy": "2024-09-25T15:58:37.586091Z",
          "iopub.status.idle": "2024-09-25T15:59:32.294590Z",
          "shell.execute_reply": "2024-09-25T15:59:32.293362Z"
        },
        "papermill": {
          "duration": 54.76816,
          "end_time": "2024-09-25T15:59:32.297200",
          "exception": false,
          "start_time": "2024-09-25T15:58:37.529040",
          "status": "completed"
        },
        "tags": [],
        "id": "add1c861"
      },
      "outputs": [],
      "source": [
        "%%capture\n",
        "!pip install --upgrade timm -q\n",
        "!pip install --upgrade wandb -q\n",
        "!pip install segmentation_models_pytorch -q\n",
        "!pip install -qq pytorch-lightning h5py pandas"
      ]
    },
    {
      "cell_type": "code",
      "source": [],
      "metadata": {
        "id": "bTzbwUdWmvZV"
      },
      "id": "bTzbwUdWmvZV",
      "execution_count": null,
      "outputs": []
    },
    {
      "cell_type": "code",
      "source": [
        "from google.colab import drive\n",
        "drive.mount('/content/drive')"
      ],
      "metadata": {
        "colab": {
          "base_uri": "https://localhost:8080/"
        },
        "id": "xz0KtvJXmvy_",
        "outputId": "076550f6-4eae-49f5-b293-2ff42cf1bfc5"
      },
      "id": "xz0KtvJXmvy_",
      "execution_count": 2,
      "outputs": [
        {
          "output_type": "stream",
          "name": "stdout",
          "text": [
            "Mounted at /content/drive\n"
          ]
        }
      ]
    },
    {
      "cell_type": "markdown",
      "id": "3595d2a0",
      "metadata": {
        "papermill": {
          "duration": 0.057682,
          "end_time": "2024-09-25T15:59:32.426904",
          "exception": false,
          "start_time": "2024-09-25T15:59:32.369222",
          "status": "completed"
        },
        "tags": [],
        "id": "3595d2a0"
      },
      "source": [
        "- EfficientNet (e.g., EfficientNet-B0): Lightweight, performs well on image classification tasks, and scales efficiently.\n",
        "- ResNet (e.g., ResNet18, ResNet34): Good for general-purpose feature extraction with relatively low complexity.\n",
        "- MobileNetV3: Designed for mobile and resource-constrained environments with good performance.\n",
        "- DenseNet121: Compact and efficient for feature reuse, which can be helpful in detecting patterns like settlements.\n",
        "- ConvNeXt-Tiny: A modern architecture that’s compact but powerful.\n",
        "- ResNet10T: Very lightweight and can be effective for small-scale tasks."
      ]
    },
    {
      "cell_type": "markdown",
      "id": "569e2a04",
      "metadata": {
        "papermill": {
          "duration": 0.053352,
          "end_time": "2024-09-25T15:59:32.535153",
          "exception": false,
          "start_time": "2024-09-25T15:59:32.481801",
          "status": "completed"
        },
        "tags": [],
        "id": "569e2a04"
      },
      "source": [
        "### Import libraries"
      ]
    },
    {
      "cell_type": "code",
      "execution_count": 1,
      "id": "721ba622",
      "metadata": {
        "execution": {
          "iopub.execute_input": "2024-09-25T15:59:32.645113Z",
          "iopub.status.busy": "2024-09-25T15:59:32.644349Z",
          "iopub.status.idle": "2024-09-25T15:59:43.066121Z",
          "shell.execute_reply": "2024-09-25T15:59:43.065192Z"
        },
        "papermill": {
          "duration": 10.479477,
          "end_time": "2024-09-25T15:59:43.068508",
          "exception": false,
          "start_time": "2024-09-25T15:59:32.589031",
          "status": "completed"
        },
        "tags": [],
        "id": "721ba622"
      },
      "outputs": [],
      "source": [
        "import numpy as np\n",
        "import gc\n",
        "import h5py\n",
        "import pandas as pd\n",
        "from tqdm import tqdm\n",
        "from matplotlib import pyplot as plt\n",
        "from sklearn.model_selection import train_test_split\n",
        "import timm\n",
        "import pytorch_lightning as pl\n",
        "from torch import nn, optim\n",
        "import torch\n",
        "import torchvision.transforms as transforms\n",
        "from torch.utils.data import TensorDataset, Subset, DataLoader\n",
        "import segmentation_models_pytorch as smp\n",
        "from torchmetrics import Accuracy, AUROC\n",
        "import wandb"
      ]
    },
    {
      "cell_type": "markdown",
      "id": "3319bffa",
      "metadata": {
        "papermill": {
          "duration": 0.053888,
          "end_time": "2024-09-25T15:59:43.178926",
          "exception": false,
          "start_time": "2024-09-25T15:59:43.125038",
          "status": "completed"
        },
        "tags": [],
        "id": "3319bffa"
      },
      "source": [
        "\n",
        "    -Blue\n",
        "    -Green\n",
        "    -Red\n",
        "    -Near-infrared (NIR)\n",
        "    -Shortwave infrared 1 (SWIR1)\n",
        "    -Shortwave infrared 2 (SWIR2)"
      ]
    },
    {
      "cell_type": "code",
      "execution_count": 2,
      "id": "02cee077",
      "metadata": {
        "execution": {
          "iopub.execute_input": "2024-09-25T15:59:43.289117Z",
          "iopub.status.busy": "2024-09-25T15:59:43.288541Z",
          "iopub.status.idle": "2024-09-25T15:59:43.652606Z",
          "shell.execute_reply": "2024-09-25T15:59:43.651796Z"
        },
        "papermill": {
          "duration": 0.421075,
          "end_time": "2024-09-25T15:59:43.654693",
          "exception": false,
          "start_time": "2024-09-25T15:59:43.233618",
          "status": "completed"
        },
        "tags": [],
        "colab": {
          "base_uri": "https://localhost:8080/"
        },
        "id": "02cee077",
        "outputId": "0ded5ae7-4483-45ae-ce7c-d434188b3bc1"
      },
      "outputs": [
        {
          "output_type": "stream",
          "name": "stderr",
          "text": [
            "\u001b[34m\u001b[1mwandb\u001b[0m: Using wandb-core as the SDK backend. Please refer to https://wandb.me/wandb-core for more information.\n",
            "\u001b[34m\u001b[1mwandb\u001b[0m: Currently logged in as: \u001b[33mmicadee19\u001b[0m. Use \u001b[1m`wandb login --relogin`\u001b[0m to force relogin\n",
            "\u001b[34m\u001b[1mwandb\u001b[0m: \u001b[33mWARNING\u001b[0m If you're specifying your api key in code, ensure this code is not shared publicly.\n",
            "\u001b[34m\u001b[1mwandb\u001b[0m: \u001b[33mWARNING\u001b[0m Consider setting the WANDB_API_KEY environment variable, or running `wandb login` from the command line.\n",
            "\u001b[34m\u001b[1mwandb\u001b[0m: Appending key for api.wandb.ai to your netrc file: /root/.netrc\n"
          ]
        },
        {
          "output_type": "execute_result",
          "data": {
            "text/plain": [
              "True"
            ]
          },
          "metadata": {},
          "execution_count": 2
        }
      ],
      "source": [
        "## Login to wandb\n",
        "import wandb\n",
        "wandb.login(key='09aeb48d63e49b06fdbd153c97ef7e0ee6cb878d')"
      ]
    },
    {
      "cell_type": "code",
      "execution_count": 3,
      "id": "68b8cd0f",
      "metadata": {
        "execution": {
          "iopub.execute_input": "2024-09-25T15:59:43.766239Z",
          "iopub.status.busy": "2024-09-25T15:59:43.765896Z",
          "iopub.status.idle": "2024-09-25T15:59:43.771274Z",
          "shell.execute_reply": "2024-09-25T15:59:43.770407Z"
        },
        "papermill": {
          "duration": 0.063688,
          "end_time": "2024-09-25T15:59:43.773257",
          "exception": false,
          "start_time": "2024-09-25T15:59:43.709569",
          "status": "completed"
        },
        "tags": [],
        "id": "68b8cd0f"
      },
      "outputs": [],
      "source": [
        "config = dict(\n",
        "    model_name= 'resnet18',\n",
        "    pretrained=True,\n",
        "    only_rgb=False,\n",
        "    mean=None,\n",
        "    std=None,\n",
        "    dropout=0.0,\n",
        "    lr=1e-4,\n",
        "    weight_decay=5e-2,\n",
        "    max_epochs=1,\n",
        "    patience=3,\n",
        "    batch_size=100, #128,\n",
        "    focal=True,\n",
        ")"
      ]
    },
    {
      "cell_type": "markdown",
      "id": "371af056",
      "metadata": {
        "papermill": {
          "duration": 0.059761,
          "end_time": "2024-09-25T15:59:43.889048",
          "exception": false,
          "start_time": "2024-09-25T15:59:43.829287",
          "status": "completed"
        },
        "tags": [],
        "id": "371af056"
      },
      "source": [
        "### Load data for machine learning"
      ]
    },
    {
      "cell_type": "code",
      "execution_count": 4,
      "id": "6f86f5c3",
      "metadata": {
        "execution": {
          "iopub.execute_input": "2024-09-25T15:59:44.016901Z",
          "iopub.status.busy": "2024-09-25T15:59:44.016447Z",
          "iopub.status.idle": "2024-09-25T15:59:44.021134Z",
          "shell.execute_reply": "2024-09-25T15:59:44.020145Z"
        },
        "papermill": {
          "duration": 0.070876,
          "end_time": "2024-09-25T15:59:44.023201",
          "exception": false,
          "start_time": "2024-09-25T15:59:43.952325",
          "status": "completed"
        },
        "tags": [],
        "id": "6f86f5c3"
      },
      "outputs": [],
      "source": [
        "data_root = '/content/drive/MyDrive/human_settlement_mapping'"
      ]
    },
    {
      "cell_type": "code",
      "execution_count": 5,
      "id": "b7d7ac41",
      "metadata": {
        "execution": {
          "iopub.execute_input": "2024-09-25T15:59:44.134811Z",
          "iopub.status.busy": "2024-09-25T15:59:44.134470Z",
          "iopub.status.idle": "2024-09-25T16:01:20.625576Z",
          "shell.execute_reply": "2024-09-25T16:01:20.624640Z"
        },
        "papermill": {
          "duration": 96.549067,
          "end_time": "2024-09-25T16:01:20.627735",
          "exception": false,
          "start_time": "2024-09-25T15:59:44.078668",
          "status": "completed"
        },
        "tags": [],
        "colab": {
          "base_uri": "https://localhost:8080/"
        },
        "id": "b7d7ac41",
        "outputId": "36f64a17-d761-4793-9847-1928484cad1e"
      },
      "outputs": [
        {
          "output_type": "stream",
          "name": "stdout",
          "text": [
            "Shape of X (images): (1100000, 16, 16, 6)\n",
            "Shape of y (labels): (1100000,)\n",
            "Shape of X_test (images): (120000, 16, 16, 6)\n",
            "CPU times: user 1min, sys: 6.3 s, total: 1min 6s\n",
            "Wall time: 1min 14s\n"
          ]
        }
      ],
      "source": [
        "%%time\n",
        "# Path to your HDF5 file\n",
        "hdf5_file = f\"{data_root}/train_data.h5\"\n",
        "\n",
        "# Open the HDF5 file\n",
        "with h5py.File(hdf5_file, 'r') as hdf:\n",
        "    # Extract the images (X)\n",
        "    X = np.array(hdf['images'])\n",
        "\n",
        "    # Extract the labels (y)\n",
        "    y = np.array(hdf['labels'])\n",
        "\n",
        "# Check the shapes to ensure they are correct\n",
        "print(\"Shape of X (images):\", X.shape)\n",
        "print(\"Shape of y (labels):\", y.shape)\n",
        "\n",
        "hdf5_file_test = f\"{data_root}/test_data.h5\"\n",
        "# Open the HDF5 file\n",
        "with h5py.File(hdf5_file_test, 'r') as hdf:\n",
        "    # Extract the images (X)\n",
        "    X_test = np.array(hdf['images'])\n",
        "\n",
        "# Check the shapes to ensure they are correct\n",
        "print(\"Shape of X_test (images):\", X_test.shape)"
      ]
    },
    {
      "cell_type": "code",
      "source": [],
      "metadata": {
        "id": "kDQcDGVfDu-y"
      },
      "id": "kDQcDGVfDu-y",
      "execution_count": 5,
      "outputs": []
    },
    {
      "cell_type": "code",
      "source": [
        "from torch.utils.data import Dataset\n",
        "import torch.nn.functional as F\n",
        "import torch\n",
        "\n",
        "class SatelliteImageDataset(Dataset):\n",
        "    def __init__(self, images, labels=None, mean=None, std=None, transform=None):\n",
        "        \"\"\"\n",
        "        Args:\n",
        "            images: List or tensor of images.\n",
        "            labels: List or tensor of labels (optional for test data).\n",
        "            mean: Mean for normalization (can be a tensor or list).\n",
        "            std: Standard deviation for normalization (can be a tensor or list).\n",
        "            transform: Optional transform to be applied on a sample.\n",
        "        \"\"\"\n",
        "        self.transform = transform\n",
        "        self.images = images\n",
        "        self.labels = labels\n",
        "        self.mean = mean if mean is not None else torch.tensor([0.0])\n",
        "        self.std = std if std is not None else torch.tensor([1.0])\n",
        "\n",
        "        self.mean = torch.tensor(self.mean)\n",
        "        self.std = torch.tensor(self.std)\n",
        "\n",
        "    def __len__(self):\n",
        "        return len(self.images)\n",
        "\n",
        "    def __getitem__(self, idx):\n",
        "        image = self.images[idx]\n",
        "\n",
        "        # Convert to float tensor and replace missing values (-9999) with NaN\n",
        "        image = torch.tensor(image, dtype=torch.float32)\n",
        "        image[image == -9999] = torch.nan\n",
        "\n",
        "        # Average over the channels to reduce to 1 channel\n",
        "        image = torch.nanmean(image, dim=0)\n",
        "        image = image.unsqueeze(0)  # Add channel dimension back\n",
        "\n",
        "        # Resize image to (224, 224)\n",
        "        image = F.interpolate(image.unsqueeze(0), size=(224, 224), mode='bilinear', align_corners=False).squeeze(0)\n",
        "\n",
        "        if self.transform:\n",
        "            image = self.transform(image)\n",
        "\n",
        "        # Use only the first value of mean and std for normalization\n",
        "        mean = self.mean[0].view(1, 1, 1).expand_as(image)\n",
        "        std = self.std[0].view(1, 1, 1).expand_as(image)\n",
        "\n",
        "        image = (image - mean.to(image.device)) / std.to(image.device)\n",
        "        image = torch.nan_to_num(image, 0)\n",
        "\n",
        "        if self.labels is not None:\n",
        "            # Return image and corresponding label for training/validation\n",
        "            label = self.labels[idx]\n",
        "            return image, torch.tensor(label, dtype=torch.long)\n",
        "        else:\n",
        "            # Return only the image for test data\n",
        "            return image\n"
      ],
      "metadata": {
        "id": "TBIZ7t-lsJtJ"
      },
      "id": "TBIZ7t-lsJtJ",
      "execution_count": 6,
      "outputs": []
    },
    {
      "cell_type": "code",
      "execution_count": 7,
      "id": "48a829f3",
      "metadata": {
        "execution": {
          "iopub.execute_input": "2024-09-25T16:01:20.740430Z",
          "iopub.status.busy": "2024-09-25T16:01:20.740094Z",
          "iopub.status.idle": "2024-09-25T16:01:20.744258Z",
          "shell.execute_reply": "2024-09-25T16:01:20.743425Z"
        },
        "papermill": {
          "duration": 0.062923,
          "end_time": "2024-09-25T16:01:20.746144",
          "exception": false,
          "start_time": "2024-09-25T16:01:20.683221",
          "status": "completed"
        },
        "tags": [],
        "id": "48a829f3"
      },
      "outputs": [],
      "source": [
        "# all_mean = []\n",
        "# all_std = []\n",
        "\n",
        "# for k in tqdm(range(len(X))):\n",
        "#     x = X[k]\n",
        "#     x = np.where(x==-9999, np.nan, x)\n",
        "#     x_mean = np.nanmean(x, axis=(0,1))\n",
        "#     x_std = np.nanstd(x, axis=(0,1))\n",
        "#     all_mean.append(x_mean)\n",
        "#     all_std.append(x_std)"
      ]
    },
    {
      "cell_type": "code",
      "execution_count": 8,
      "id": "245df423",
      "metadata": {
        "execution": {
          "iopub.execute_input": "2024-09-25T16:01:20.858066Z",
          "iopub.status.busy": "2024-09-25T16:01:20.857763Z",
          "iopub.status.idle": "2024-09-25T16:01:20.861420Z",
          "shell.execute_reply": "2024-09-25T16:01:20.860657Z"
        },
        "papermill": {
          "duration": 0.060756,
          "end_time": "2024-09-25T16:01:20.863303",
          "exception": false,
          "start_time": "2024-09-25T16:01:20.802547",
          "status": "completed"
        },
        "tags": [],
        "id": "245df423"
      },
      "outputs": [],
      "source": [
        "# data_mean = np.mean(all_mean, axis=0)\n",
        "# data_std = np.mean(all_std, axis=0)\n",
        "# del all_mean, all_std\n",
        "# gc.collect()"
      ]
    },
    {
      "cell_type": "code",
      "execution_count": 9,
      "id": "5247500f",
      "metadata": {
        "execution": {
          "iopub.execute_input": "2024-09-25T16:01:20.973272Z",
          "iopub.status.busy": "2024-09-25T16:01:20.972969Z",
          "iopub.status.idle": "2024-09-25T16:01:20.977567Z",
          "shell.execute_reply": "2024-09-25T16:01:20.976786Z"
        },
        "papermill": {
          "duration": 0.061988,
          "end_time": "2024-09-25T16:01:20.979465",
          "exception": false,
          "start_time": "2024-09-25T16:01:20.917477",
          "status": "completed"
        },
        "tags": [],
        "id": "5247500f"
      },
      "outputs": [],
      "source": [
        "data_mean = np.array([1563.79248444, 1563.79001356, 1561.50078137, 1561.50280023, 1562.52022583, 1562.51923616])\n",
        "data_std = np.array([838.00999403, 838.01471256, 835.72691994, 835.73440201, 834.43898481, 834.44672857])"
      ]
    },
    {
      "cell_type": "code",
      "execution_count": 10,
      "id": "303c46f2",
      "metadata": {
        "execution": {
          "iopub.execute_input": "2024-09-25T16:01:21.091502Z",
          "iopub.status.busy": "2024-09-25T16:01:21.091139Z",
          "iopub.status.idle": "2024-09-25T16:01:21.094973Z",
          "shell.execute_reply": "2024-09-25T16:01:21.094172Z"
        },
        "papermill": {
          "duration": 0.06242,
          "end_time": "2024-09-25T16:01:21.096797",
          "exception": false,
          "start_time": "2024-09-25T16:01:21.034377",
          "status": "completed"
        },
        "tags": [],
        "id": "303c46f2"
      },
      "outputs": [],
      "source": [
        "# ## preprocess the data\n",
        "\n",
        "# # remove missing value\n",
        "# X = np.where(X==-9999, np.nan, X)\n",
        "# X_test = np.where(X_test==-9999, np.nan, X_test)\n",
        "\n",
        "# gc.collect()"
      ]
    },
    {
      "cell_type": "code",
      "execution_count": 11,
      "id": "a34e9e14",
      "metadata": {
        "execution": {
          "iopub.execute_input": "2024-09-25T16:01:21.207259Z",
          "iopub.status.busy": "2024-09-25T16:01:21.206594Z",
          "iopub.status.idle": "2024-09-25T16:01:21.212193Z",
          "shell.execute_reply": "2024-09-25T16:01:21.211287Z"
        },
        "papermill": {
          "duration": 0.063002,
          "end_time": "2024-09-25T16:01:21.214158",
          "exception": false,
          "start_time": "2024-09-25T16:01:21.151156",
          "status": "completed"
        },
        "tags": [],
        "id": "a34e9e14"
      },
      "outputs": [],
      "source": [
        "# ## preprocess the data\n",
        "\n",
        "# # scale data\n",
        "# x_mean = np.nanmean(X, axis=(0,1,2))\n",
        "# x_std = np.nanstd(X, axis=(0,1,2))\n",
        "\n",
        "# gc.collect()"
      ]
    },
    {
      "cell_type": "code",
      "execution_count": 12,
      "id": "12fc835c",
      "metadata": {
        "execution": {
          "iopub.execute_input": "2024-09-25T16:01:21.324896Z",
          "iopub.status.busy": "2024-09-25T16:01:21.324575Z",
          "iopub.status.idle": "2024-09-25T16:01:21.377884Z",
          "shell.execute_reply": "2024-09-25T16:01:21.376973Z"
        },
        "papermill": {
          "duration": 0.11095,
          "end_time": "2024-09-25T16:01:21.379905",
          "exception": false,
          "start_time": "2024-09-25T16:01:21.268955",
          "status": "completed"
        },
        "tags": [],
        "colab": {
          "base_uri": "https://localhost:8080/"
        },
        "id": "12fc835c",
        "outputId": "6313d178-df58-48ec-8d3c-68efd750c375"
      },
      "outputs": [
        {
          "output_type": "execute_result",
          "data": {
            "text/plain": [
              "(array([0, 1]), array([1000000,  100000]))"
            ]
          },
          "metadata": {},
          "execution_count": 12
        }
      ],
      "source": [
        "np.unique(y, return_counts=True)"
      ]
    },
    {
      "cell_type": "code",
      "execution_count": 13,
      "id": "e6fbd25a",
      "metadata": {
        "execution": {
          "iopub.execute_input": "2024-09-25T16:01:21.542937Z",
          "iopub.status.busy": "2024-09-25T16:01:21.542119Z",
          "iopub.status.idle": "2024-09-25T16:01:21.548068Z",
          "shell.execute_reply": "2024-09-25T16:01:21.547154Z"
        },
        "papermill": {
          "duration": 0.070835,
          "end_time": "2024-09-25T16:01:21.550210",
          "exception": false,
          "start_time": "2024-09-25T16:01:21.479375",
          "status": "completed"
        },
        "tags": [],
        "id": "e6fbd25a"
      },
      "outputs": [],
      "source": [
        "def plot_sample(k):\n",
        "    image = X[k]\n",
        "    _, axes = plt.subplots(2,3, figsize=(5,3))\n",
        "    axes = axes.flatten()\n",
        "    print(f\"y = {y[k]}\")\n",
        "    for data, axis in zip(image.transpose(2, 0, 1), axes):\n",
        "        axis.imshow(data)\n",
        "    plt.show()"
      ]
    },
    {
      "cell_type": "code",
      "execution_count": 14,
      "id": "f1967cf9",
      "metadata": {
        "execution": {
          "iopub.execute_input": "2024-09-25T16:01:21.662414Z",
          "iopub.status.busy": "2024-09-25T16:01:21.662138Z",
          "iopub.status.idle": "2024-09-25T16:01:22.310820Z",
          "shell.execute_reply": "2024-09-25T16:01:22.309953Z"
        },
        "papermill": {
          "duration": 0.706685,
          "end_time": "2024-09-25T16:01:22.312842",
          "exception": false,
          "start_time": "2024-09-25T16:01:21.606157",
          "status": "completed"
        },
        "tags": [],
        "id": "f1967cf9",
        "colab": {
          "base_uri": "https://localhost:8080/",
          "height": 310
        },
        "outputId": "c39b237f-5738-4d42-f559-209305c95e76"
      },
      "outputs": [
        {
          "output_type": "stream",
          "name": "stdout",
          "text": [
            "y = 0\n"
          ]
        },
        {
          "output_type": "display_data",
          "data": {
            "text/plain": [
              "<Figure size 500x300 with 6 Axes>"
            ],
            "image/png": "[encoded data removed]"
          },
          "metadata": {}
        }
      ],
      "source": [
        "plot_sample(90)"
      ]
    },
    {
      "cell_type": "code",
      "execution_count": 15,
      "id": "3114dcb0",
      "metadata": {
        "execution": {
          "iopub.execute_input": "2024-09-25T16:01:22.445447Z",
          "iopub.status.busy": "2024-09-25T16:01:22.444624Z",
          "iopub.status.idle": "2024-09-25T16:01:22.455111Z",
          "shell.execute_reply": "2024-09-25T16:01:22.454416Z"
        },
        "papermill": {
          "duration": 0.068877,
          "end_time": "2024-09-25T16:01:22.456929",
          "exception": false,
          "start_time": "2024-09-25T16:01:22.388052",
          "status": "completed"
        },
        "tags": [],
        "id": "3114dcb0"
      },
      "outputs": [],
      "source": [
        "# Step 2: Get indices of 0's and 1's in y\n",
        "ones_indices = np.where(y == 1)[0]\n",
        "zeros_indices = np.where(y == 0)[0]"
      ]
    },
    {
      "cell_type": "code",
      "execution_count": 16,
      "id": "8b8655dd",
      "metadata": {
        "execution": {
          "iopub.execute_input": "2024-09-25T16:01:22.570183Z",
          "iopub.status.busy": "2024-09-25T16:01:22.569472Z",
          "iopub.status.idle": "2024-09-25T16:01:23.188412Z",
          "shell.execute_reply": "2024-09-25T16:01:23.187530Z"
        },
        "papermill": {
          "duration": 0.677407,
          "end_time": "2024-09-25T16:01:23.190658",
          "exception": false,
          "start_time": "2024-09-25T16:01:22.513251",
          "status": "completed"
        },
        "tags": [],
        "colab": {
          "base_uri": "https://localhost:8080/",
          "height": 310
        },
        "id": "8b8655dd",
        "outputId": "73b30ac2-f523-45df-f787-27f88f34906b"
      },
      "outputs": [
        {
          "output_type": "stream",
          "name": "stdout",
          "text": [
            "y = 1\n"
          ]
        },
        {
          "output_type": "display_data",
          "data": {
            "text/plain": [
              "<Figure size 500x300 with 6 Axes>"
            ],
            "image/png": "[encoded data removed]"
          },
          "metadata": {}
        }
      ],
      "source": [
        "k = np.random.choice(ones_indices)\n",
        "plot_sample(k)"
      ]
    },
    {
      "cell_type": "code",
      "execution_count": 17,
      "id": "82d83a6b",
      "metadata": {
        "execution": {
          "iopub.execute_input": "2024-09-25T16:01:23.304924Z",
          "iopub.status.busy": "2024-09-25T16:01:23.304563Z",
          "iopub.status.idle": "2024-09-25T16:01:23.924937Z",
          "shell.execute_reply": "2024-09-25T16:01:23.923794Z"
        },
        "papermill": {
          "duration": 0.679628,
          "end_time": "2024-09-25T16:01:23.927114",
          "exception": false,
          "start_time": "2024-09-25T16:01:23.247486",
          "status": "completed"
        },
        "tags": [],
        "colab": {
          "base_uri": "https://localhost:8080/",
          "height": 328
        },
        "id": "82d83a6b",
        "outputId": "b8024a34-d83d-464b-df91-f1db6ccd6b24"
      },
      "outputs": [
        {
          "output_type": "stream",
          "name": "stdout",
          "text": [
            "799158\n",
            "y = 0\n"
          ]
        },
        {
          "output_type": "display_data",
          "data": {
            "text/plain": [
              "<Figure size 500x300 with 6 Axes>"
            ],
            "image/png": "[encoded data removed]"
          },
          "metadata": {}
        }
      ],
      "source": [
        "k = np.random.choice(zeros_indices)\n",
        "print(k)\n",
        "plot_sample(k)"
      ]
    },
    {
      "cell_type": "code",
      "execution_count": 18,
      "id": "5a60e2d3",
      "metadata": {
        "execution": {
          "iopub.execute_input": "2024-09-25T16:01:24.044975Z",
          "iopub.status.busy": "2024-09-25T16:01:24.044595Z",
          "iopub.status.idle": "2024-09-25T16:01:24.049476Z",
          "shell.execute_reply": "2024-09-25T16:01:24.048568Z"
        },
        "papermill": {
          "duration": 0.066368,
          "end_time": "2024-09-25T16:01:24.051539",
          "exception": false,
          "start_time": "2024-09-25T16:01:23.985171",
          "status": "completed"
        },
        "tags": [],
        "id": "5a60e2d3"
      },
      "outputs": [],
      "source": [
        "# class DataTransformer:\n",
        "#     def __init__(self, mean=None, std=None, img_size=512):\n",
        "#         if mean is None:\n",
        "#             mean = torch.zeros(1)\n",
        "\n",
        "#         if std is None:\n",
        "#             std = torch.ones(1)\n",
        "#         self.mean = mean.reshape(1,-1,1,1)\n",
        "#         self.std = std.reshape(1,-1,1,1)\n",
        "#         self.resize = transforms.Resize((img_size, img_size))  # Ensure 512x512 size\n",
        "\n",
        "#     def __call__(self, x):\n",
        "#         x = x.float()\n",
        "#         x[x == -9999] = torch.nan\n",
        "\n",
        "#         x = (x - self.mean.to(x.device)) / self.std.to(x.device)\n",
        "#         x = torch.nan_to_num(x, 0)  # fix nan as zero\n",
        "\n",
        "#         # Resize to 512x512\n",
        "#         x = self.resize(x)\n",
        "#         return x"
      ]
    },
    {
      "cell_type": "code",
      "execution_count": 19,
      "id": "f9942f35",
      "metadata": {
        "execution": {
          "iopub.execute_input": "2024-09-25T16:01:24.167612Z",
          "iopub.status.busy": "2024-09-25T16:01:24.167303Z",
          "iopub.status.idle": "2024-09-25T16:01:24.174402Z",
          "shell.execute_reply": "2024-09-25T16:01:24.173561Z"
        },
        "papermill": {
          "duration": 0.067136,
          "end_time": "2024-09-25T16:01:24.176152",
          "exception": false,
          "start_time": "2024-09-25T16:01:24.109016",
          "status": "completed"
        },
        "tags": [],
        "id": "f9942f35"
      },
      "outputs": [],
      "source": [
        "#class DataTransformer:\n",
        " #   def __init__(self, mean=None, std=None):\n",
        "#        if mean is None:\n",
        "#            mean = torch.zeros(1)\n",
        "#\n",
        "#        if std is None:\n",
        " #           std = torch.ones(1)\n",
        "  #      self.mean = mean.reshape(1,-1,1,1)\n",
        "   #     self.std = std.reshape(1,-1,1,1)\n",
        "\n",
        "    #def __call__(self, x):\n",
        "     #   x = x.float()\n",
        "      #  x[x==-9999] = torch.nan\n",
        "\n",
        "       # x = (x - self.mean.to(x.device)) / self.std.to(x.device)\n",
        "       # x = torch.nan_to_num(x, 0) # fix nan as zero\n",
        "        #return x"
      ]
    },
    {
      "cell_type": "code",
      "execution_count": 20,
      "id": "9e6f0209",
      "metadata": {
        "execution": {
          "iopub.execute_input": "2024-09-25T16:01:24.291682Z",
          "iopub.status.busy": "2024-09-25T16:01:24.291281Z",
          "iopub.status.idle": "2024-09-25T16:01:24.306154Z",
          "shell.execute_reply": "2024-09-25T16:01:24.305214Z"
        },
        "papermill": {
          "duration": 0.074578,
          "end_time": "2024-09-25T16:01:24.308120",
          "exception": false,
          "start_time": "2024-09-25T16:01:24.233542",
          "status": "completed"
        },
        "tags": [],
        "id": "9e6f0209"
      },
      "outputs": [],
      "source": [
        "class SettlementModel(pl.LightningModule):\n",
        "    def __init__(self, model_name='resnet18', pretrained=True, only_rgb=False, mean=None, std=None, dropout=0.0, lr=1e-4, weight_decay=5e-2, patience=5, focal=True, **kwargs):\n",
        "        super().__init__()\n",
        "        self.save_hyperparameters()\n",
        "\n",
        "        in_chans = 1 #3 + 3*(not only_rgb)\n",
        "        self.net = timm.create_model(model_name, in_chans=in_chans, num_classes=1, drop_rate=dropout, pretrained=pretrained)\n",
        "        if focal:\n",
        "            self.criterion = smp.losses.FocalLoss(mode='binary', alpha=None, gamma=2.0)\n",
        "        else:\n",
        "            self.criterion = nn.BCEWithLogitsLoss(pos_weight=torch.tensor(10.))\n",
        "        self.auc = AUROC(task=\"binary\")\n",
        "\n",
        "    def forward(self, x):\n",
        "        x = x.float()  # Ensure input is float32\n",
        "        if self.hparams.only_rgb:\n",
        "            x = x[:, :3]\n",
        "        return self.net(x)\n",
        "\n",
        "    def configure_optimizers(self):\n",
        "        optimizer = optim.AdamW(self.parameters(), lr=self.hparams.lr, weight_decay=self.hparams.weight_decay)\n",
        "        scheduler = optim.lr_scheduler.ReduceLROnPlateau(optimizer, mode='max', factor=0.5, patience=self.hparams.patience//2)\n",
        "        lr_scheduler = {'scheduler': scheduler, 'interval': 'epoch', 'monitor': 'val_auc'}\n",
        "        return {'optimizer': optimizer, 'lr_scheduler': lr_scheduler}\n",
        "\n",
        "    def training_step(self, batch, batch_nb=0):\n",
        "        image, target = batch\n",
        "        pred = self(image)\n",
        "        loss = self.criterion(pred, target)\n",
        "        self.log('loss', loss, on_step=True, on_epoch=False, sync_dist=True, prog_bar=True)\n",
        "        return loss\n",
        "\n",
        "    def validation_step(self, batch, batch_nb=0):\n",
        "        image, target = batch\n",
        "        pred = self(image)\n",
        "        loss = self.criterion(pred, target)\n",
        "        self.log('val_loss', loss, on_step=False, on_epoch=True, batch_size=image.shape[0], sync_dist=True, prog_bar=True)\n",
        "\n",
        "        auc = self.auc(pred, target)\n",
        "        self.log('val_auc', auc, on_step=False, on_epoch=True, batch_size=image.shape[0], sync_dist=True, prog_bar=True)\n",
        "\n",
        "    def predict_step(self, batch, batch_nb=0):\n",
        "      # No need to unpack as batch contains the images directly\n",
        "      image = batch\n",
        "      pred = self(image).sigmoid().flatten()\n",
        "      return pred.cpu().numpy()\n",
        "\n"
      ]
    },
    {
      "cell_type": "code",
      "execution_count": 21,
      "id": "30d3dc62",
      "metadata": {
        "execution": {
          "iopub.execute_input": "2024-09-25T16:01:24.424465Z",
          "iopub.status.busy": "2024-09-25T16:01:24.423942Z",
          "iopub.status.idle": "2024-09-25T16:01:24.430347Z",
          "shell.execute_reply": "2024-09-25T16:01:24.429539Z"
        },
        "papermill": {
          "duration": 0.066128,
          "end_time": "2024-09-25T16:01:24.432237",
          "exception": false,
          "start_time": "2024-09-25T16:01:24.366109",
          "status": "completed"
        },
        "tags": [],
        "id": "30d3dc62"
      },
      "outputs": [],
      "source": [
        "config['mean'] = torch.from_numpy(data_mean.astype('float32'))\n",
        "config['std'] = torch.from_numpy(data_std.astype('float32'))"
      ]
    },
    {
      "cell_type": "code",
      "execution_count": 22,
      "id": "c300b16b",
      "metadata": {
        "execution": {
          "iopub.execute_input": "2024-09-25T16:01:24.547244Z",
          "iopub.status.busy": "2024-09-25T16:01:24.546675Z",
          "iopub.status.idle": "2024-09-25T19:18:29.295429Z",
          "shell.execute_reply": "2024-09-25T19:18:29.294551Z"
        },
        "papermill": {
          "duration": 11824.809268,
          "end_time": "2024-09-25T19:18:29.297878",
          "exception": false,
          "start_time": "2024-09-25T16:01:24.488610",
          "status": "completed"
        },
        "tags": [],
        "colab": {
          "base_uri": "https://localhost:8080/",
          "height": 677,
          "referenced_widgets": [
            "1be02879b1a943eeb964ec3bc16cee8d",
            "ad93db36af3248b38010ba8a89e1e11e",
            "4c0d80b968664f098e1348db9216565a",
            "533b88a906d04a8380706251aa263cb3",
            "4de05b05d9644483bdda44f9af404262",
            "9d6aaf01672c4d6eb27af756e6baa60b",
            "f79a05fb775344939cb5caf7489b30b1",
            "f7eef55ec1974de4be536e6b8d017c3d",
            "1dcfd9642907431197086193ea99efbe",
            "7e673d0192a64b5d8f65c02f533a032e",
            "5678c537a6734748a4845f10ca0f9636",
            "df12a56f91e844f0a5fc8b681da9e744",
            "7dd6227e7b5e4a3c8f36ffc550f1dab3",
            "b4d8abca962b4e56be467ec972ffc28d",
            "fa2ec1a733c74734a880e8dec72ae0cc",
            "d8983b3f0fe841fb821164a1b6062cd2",
            "f050cc23daef4fc6920bdd8608aec1bd",
            "07b75b0590d845118fcb93b759f34538",
            "e87372da53a1489fbad4f251e4c586f0",
            "74e028a3193e4f16984004071798b55c",
            "871725b5f6ff4741ad68c2989a502ea5",
            "428404d9d45c46cc8610559d6d843f72",
            "5d4574271f3b4fb181d747b337f8dd3d",
            "75cf410a655048ec829add94c8906bdf",
            "425723a5d5f248bfa753252198ebd098",
            "31fac9a7b2ae4d93bed6c1dfa1dfff42",
            "d525456c92b64939ad63a9e082862c65",
            "f6a13b76cf3e40f1bceec9c5de37ef31",
            "5be3c99643714785a7b1c521e04f13c8",
            "45d906768dd74693999470f620de0345",
            "3d8a0f7500e64f6cb725147afb39e4db",
            "d598b5a838fe432b933cd1993b58fce6",
            "d755bf20f77b47499e6c13c9259bdca2"
          ]
        },
        "id": "c300b16b",
        "outputId": "610b5268-e92a-4b73-a4f6-dde2977fd21d"
      },
      "outputs": [
        {
          "output_type": "stream",
          "name": "stderr",
          "text": [
            "INFO:lightning_fabric.utilities.seed:Seed set to 42\n",
            "/usr/local/lib/python3.10/dist-packages/huggingface_hub/utils/_token.py:89: UserWarning: \n",
            "The secret `HF_TOKEN` does not exist in your Colab secrets.\n",
            "To authenticate with the Hugging Face Hub, create a token in your settings tab (https://huggingface.co/settings/tokens), set it as secret in your Google Colab and restart your session.\n",
            "You will be able to reuse this secret in all of your notebooks.\n",
            "Please note that authentication is recommended but still optional to access public models or datasets.\n",
            "  warnings.warn(\n",
            "INFO:pytorch_lightning.utilities.rank_zero:Using 16bit Automatic Mixed Precision (AMP)\n",
            "INFO:pytorch_lightning.utilities.rank_zero:GPU available: True (cuda), used: True\n",
            "INFO:pytorch_lightning.utilities.rank_zero:TPU available: False, using: 0 TPU cores\n",
            "INFO:pytorch_lightning.utilities.rank_zero:HPU available: False, using: 0 HPUs\n",
            "\u001b[34m\u001b[1mwandb\u001b[0m: \u001b[33mWARNING\u001b[0m Path hms/wandb/ wasn't writable, using system temp directory.\n"
          ]
        },
        {
          "output_type": "display_data",
          "data": {
            "text/plain": [
              "<IPython.core.display.HTML object>"
            ],
            "text/html": [
              "Tracking run with wandb version 0.18.2"
            ]
          },
          "metadata": {}
        },
        {
          "output_type": "display_data",
          "data": {
            "text/plain": [
              "<IPython.core.display.HTML object>"
            ],
            "text/html": [
              "Run data is saved locally in <code>/tmp/wandb/run-20240928_195032-6i37x39o</code>"
            ]
          },
          "metadata": {}
        },
        {
          "output_type": "display_data",
          "data": {
            "text/plain": [
              "<IPython.core.display.HTML object>"
            ],
            "text/html": [
              "Syncing run <strong><a href='https://wandb.ai/micadee19/lightning_logs/runs/6i37x39o' target=\"_blank\">hms</a></strong> to <a href='https://wandb.ai/micadee19/lightning_logs' target=\"_blank\">Weights & Biases</a> (<a href='https://wandb.me/run' target=\"_blank\">docs</a>)<br/>"
            ]
          },
          "metadata": {}
        },
        {
          "output_type": "display_data",
          "data": {
            "text/plain": [
              "<IPython.core.display.HTML object>"
            ],
            "text/html": [
              " View project at <a href='https://wandb.ai/micadee19/lightning_logs' target=\"_blank\">https://wandb.ai/micadee19/lightning_logs</a>"
            ]
          },
          "metadata": {}
        },
        {
          "output_type": "display_data",
          "data": {
            "text/plain": [
              "<IPython.core.display.HTML object>"
            ],
            "text/html": [
              " View run at <a href='https://wandb.ai/micadee19/lightning_logs/runs/6i37x39o' target=\"_blank\">https://wandb.ai/micadee19/lightning_logs/runs/6i37x39o</a>"
            ]
          },
          "metadata": {}
        },
        {
          "output_type": "stream",
          "name": "stderr",
          "text": [
            "INFO:pytorch_lightning.accelerators.cuda:LOCAL_RANK: 0 - CUDA_VISIBLE_DEVICES: [0]\n",
            "INFO:pytorch_lightning.callbacks.model_summary:\n",
            "  | Name      | Type        | Params | Mode \n",
            "--------------------------------------------------\n",
            "0 | net       | ResNet      | 11.2 M | train\n",
            "1 | criterion | FocalLoss   | 0      | train\n",
            "2 | auc       | BinaryAUROC | 0      | train\n",
            "--------------------------------------------------\n",
            "11.2 M    Trainable params\n",
            "0         Non-trainable params\n",
            "11.2 M    Total params\n",
            "44.683    Total estimated model params size (MB)\n",
            "96        Modules in train mode\n",
            "0         Modules in eval mode\n"
          ]
        },
        {
          "output_type": "display_data",
          "data": {
            "text/plain": [
              "Sanity Checking: |          | 0/? [00:00<?, ?it/s]"
            ],
            "application/vnd.jupyter.widget-view+json": {
              "version_major": 2,
              "version_minor": 0,
              "model_id": "1be02879b1a943eeb964ec3bc16cee8d"
            }
          },
          "metadata": {}
        },
        {
          "output_type": "display_data",
          "data": {
            "text/plain": [
              "Training: |          | 0/? [00:00<?, ?it/s]"
            ],
            "application/vnd.jupyter.widget-view+json": {
              "version_major": 2,
              "version_minor": 0,
              "model_id": "df12a56f91e844f0a5fc8b681da9e744"
            }
          },
          "metadata": {}
        },
        {
          "output_type": "display_data",
          "data": {
            "text/plain": [
              "Validation: |          | 0/? [00:00<?, ?it/s]"
            ],
            "application/vnd.jupyter.widget-view+json": {
              "version_major": 2,
              "version_minor": 0,
              "model_id": "5d4574271f3b4fb181d747b337f8dd3d"
            }
          },
          "metadata": {}
        },
        {
          "output_type": "stream",
          "name": "stderr",
          "text": [
            "/usr/local/lib/python3.10/dist-packages/torchmetrics/utilities/prints.py:43: UserWarning: No positive samples in targets, true positive value should be meaningless. Returning zero tensor in true positive score\n",
            "  warnings.warn(*args, **kwargs)  # noqa: B028\n",
            "INFO:pytorch_lightning.callbacks.early_stopping:Metric val_auc improved. New best score: 0.657\n",
            "INFO:pytorch_lightning.utilities.rank_zero:`Trainer.fit` stopped: `max_epochs=1` reached.\n"
          ]
        }
      ],
      "source": [
        "pl.seed_everything(42, workers=True)\n",
        "\n",
        "X_train, X_val, y_train, y_val = train_test_split(X, y, test_size=0.2, random_state=42, stratify=y)\n",
        "\n",
        "#dst = TensorDataset(\n",
        "#    torch.from_numpy(X.transpose(0,3,1,2)),\n",
        " #   torch.from_numpy(y.reshape(-1, 1)).float(),\n",
        "#)\n",
        "\n",
        "#train_dst = Subset(dst, train_index)\n",
        "#val_dst = Subset(dst, val_index)\n",
        "\n",
        "train_dst = SatelliteImageDataset(X_train, y_train, mean=data_mean, std=data_std)\n",
        "val_dst = SatelliteImageDataset(X_val, y_val, mean=data_mean, std=data_std)\n",
        "\n",
        "train_loader = DataLoader(train_dst, batch_size=config['batch_size'], shuffle=True, num_workers=2)\n",
        "val_loader = DataLoader(val_dst, batch_size=config['batch_size'], shuffle=False, num_workers=2)\n",
        "\n",
        "model = SettlementModel(\n",
        "    **config,\n",
        ")\n",
        "\n",
        "# callbacks\n",
        "checkpoint_callback = pl.callbacks.ModelCheckpoint(\n",
        "    filename= '{epoch}-{val_auc:.6f}',\n",
        "    monitor='val_auc',\n",
        "    mode='max',\n",
        "    verbose=False,\n",
        "    save_last=True,\n",
        "    save_weights_only=True,\n",
        ")\n",
        "early_stop = pl.callbacks.EarlyStopping(\n",
        "    monitor='val_auc',\n",
        "    mode='max',\n",
        "    patience=config['patience'],\n",
        "    verbose=True,\n",
        ")\n",
        "progress_bar = pl.callbacks.TQDMProgressBar(refresh_rate=100)\n",
        "callbacks = [\n",
        "    checkpoint_callback,\n",
        "    early_stop,\n",
        "    progress_bar,\n",
        "]\n",
        "###\n",
        "# training section\n",
        "logger = pl.loggers.WandbLogger(\n",
        "    save_dir='hms',\n",
        "    name='hms',\n",
        ")\n",
        "\n",
        "trainer = pl.Trainer(\n",
        "    accelerator='auto',\n",
        "    devices='auto',\n",
        "    precision='16-mixed',\n",
        "    max_epochs=config['max_epochs'],\n",
        "    callbacks=callbacks,\n",
        "    logger=logger,\n",
        ")\n",
        "\n",
        "trainer.fit(model, train_dataloaders=train_loader, val_dataloaders=val_loader)"
      ]
    },
    {
      "cell_type": "code",
      "source": [
        "test_dst = SatelliteImageDataset(images=X_test , mean=data_mean, std=data_std)\n",
        "test_loader = DataLoader(test_dst, batch_size=config['batch_size'])"
      ],
      "metadata": {
        "id": "KJ3M2wtGZ8Oy"
      },
      "id": "KJ3M2wtGZ8Oy",
      "execution_count": 23,
      "outputs": []
    },
    {
      "cell_type": "code",
      "source": [
        "for x in test_loader:\n",
        "    print(x.shape)\n",
        "    break"
      ],
      "metadata": {
        "colab": {
          "base_uri": "https://localhost:8080/"
        },
        "id": "gXC1rLcyaJCQ",
        "outputId": "4c12012e-da78-4435-d82d-5ef0bc8fc806"
      },
      "id": "gXC1rLcyaJCQ",
      "execution_count": 24,
      "outputs": [
        {
          "output_type": "stream",
          "name": "stdout",
          "text": [
            "torch.Size([20, 1, 224, 224])\n"
          ]
        }
      ]
    },
    {
      "cell_type": "code",
      "execution_count": 25,
      "id": "bc2133fc",
      "metadata": {
        "execution": {
          "iopub.execute_input": "2024-09-25T19:18:29.423001Z",
          "iopub.status.busy": "2024-09-25T19:18:29.422324Z",
          "iopub.status.idle": "2024-09-25T19:18:36.674423Z",
          "shell.execute_reply": "2024-09-25T19:18:36.673626Z"
        },
        "papermill": {
          "duration": 7.316553,
          "end_time": "2024-09-25T19:18:36.676989",
          "exception": false,
          "start_time": "2024-09-25T19:18:29.360436",
          "status": "completed"
        },
        "tags": [],
        "id": "bc2133fc",
        "colab": {
          "base_uri": "https://localhost:8080/",
          "height": 101,
          "referenced_widgets": [
            "659f8416557946d7bf8e2a415299997f",
            "c48bc9c5bc904e9da9f60c02550d49b4",
            "69d5e8224db0497f9d1b5e6c1a8cc662",
            "c76460e6272b45fea91bd35a0d9ddc1f",
            "5497c5dca2c840a5bc7a0918eb28ba16",
            "8387a519aba24a76a09f428a35fc1c94",
            "54ce08c5121948ca87249c4442d00664",
            "da3a644fc17a4685a1219a4265e86f39",
            "f15272a0a1364daebe6c1a04c4099bb2",
            "23a1e8268e6346af9ce5dd7193decb48",
            "6fa59a5700414b828692614ba73d646e"
          ]
        },
        "outputId": "f7a043c8-7d82-4c63-91bb-e5aaef2c2c9a"
      },
      "outputs": [
        {
          "output_type": "stream",
          "name": "stderr",
          "text": [
            "INFO:pytorch_lightning.utilities.rank_zero:Restoring states from the checkpoint path at hms/lightning_logs/6i37x39o/checkpoints/epoch=0-val_auc=0.657306.ckpt\n",
            "INFO:pytorch_lightning.accelerators.cuda:LOCAL_RANK: 0 - CUDA_VISIBLE_DEVICES: [0]\n",
            "INFO:pytorch_lightning.utilities.rank_zero:Loaded model weights from the checkpoint at hms/lightning_logs/6i37x39o/checkpoints/epoch=0-val_auc=0.657306.ckpt\n"
          ]
        },
        {
          "output_type": "display_data",
          "data": {
            "text/plain": [
              "Predicting: |          | 0/? [00:00<?, ?it/s]"
            ],
            "application/vnd.jupyter.widget-view+json": {
              "version_major": 2,
              "version_minor": 0,
              "model_id": "659f8416557946d7bf8e2a415299997f"
            }
          },
          "metadata": {}
        }
      ],
      "source": [
        "preds = trainer.predict(ckpt_path='best', dataloaders=test_loader)"
      ]
    },
    {
      "cell_type": "code",
      "execution_count": 26,
      "id": "265c5f54",
      "metadata": {
        "execution": {
          "iopub.execute_input": "2024-09-25T19:18:36.803267Z",
          "iopub.status.busy": "2024-09-25T19:18:36.802929Z",
          "iopub.status.idle": "2024-09-25T19:18:36.809862Z",
          "shell.execute_reply": "2024-09-25T19:18:36.809038Z"
        },
        "papermill": {
          "duration": 0.072201,
          "end_time": "2024-09-25T19:18:36.811648",
          "exception": false,
          "start_time": "2024-09-25T19:18:36.739447",
          "status": "completed"
        },
        "tags": [],
        "id": "265c5f54",
        "outputId": "32529ae5-f949-41a9-fca1-8f943de2584b",
        "colab": {
          "base_uri": "https://localhost:8080/"
        }
      },
      "outputs": [
        {
          "output_type": "execute_result",
          "data": {
            "text/plain": [
              "(120000,)"
            ]
          },
          "metadata": {},
          "execution_count": 26
        }
      ],
      "source": [
        "preds = np.concatenate(preds, axis=0)\n",
        "preds.shape"
      ]
    },
    {
      "cell_type": "code",
      "source": [
        "preds"
      ],
      "metadata": {
        "colab": {
          "base_uri": "https://localhost:8080/"
        },
        "id": "gcCZZ-MOgCH0",
        "outputId": "293806b1-5920-4b8c-979e-392c1effa1eb"
      },
      "id": "gcCZZ-MOgCH0",
      "execution_count": 27,
      "outputs": [
        {
          "output_type": "execute_result",
          "data": {
            "text/plain": [
              "array([0.2732, 0.1749, 0.2893, ..., 0.328 , 0.212 , 0.376 ], dtype=float16)"
            ]
          },
          "metadata": {},
          "execution_count": 27
        }
      ]
    },
    {
      "cell_type": "code",
      "execution_count": 28,
      "id": "b8281d5b",
      "metadata": {
        "execution": {
          "iopub.execute_input": "2024-09-25T19:18:36.936129Z",
          "iopub.status.busy": "2024-09-25T19:18:36.935836Z",
          "iopub.status.idle": "2024-09-25T19:18:36.939549Z",
          "shell.execute_reply": "2024-09-25T19:18:36.938796Z"
        },
        "papermill": {
          "duration": 0.06755,
          "end_time": "2024-09-25T19:18:36.941356",
          "exception": false,
          "start_time": "2024-09-25T19:18:36.873806",
          "status": "completed"
        },
        "tags": [],
        "id": "b8281d5b"
      },
      "outputs": [],
      "source": [
        "# np.unique(preds>0.6, return_counts=True)"
      ]
    },
    {
      "cell_type": "code",
      "execution_count": 29,
      "id": "b600a4b7",
      "metadata": {
        "execution": {
          "iopub.execute_input": "2024-09-25T19:18:37.066322Z",
          "iopub.status.busy": "2024-09-25T19:18:37.065634Z",
          "iopub.status.idle": "2024-09-25T19:18:37.200636Z",
          "shell.execute_reply": "2024-09-25T19:18:37.199728Z"
        },
        "papermill": {
          "duration": 0.199112,
          "end_time": "2024-09-25T19:18:37.202804",
          "exception": false,
          "start_time": "2024-09-25T19:18:37.003692",
          "status": "completed"
        },
        "tags": [],
        "id": "b600a4b7",
        "outputId": "fece55a8-ce76-4c92-a1a3-2a12b73cb945",
        "colab": {
          "base_uri": "https://localhost:8080/",
          "height": 206
        }
      },
      "outputs": [
        {
          "output_type": "execute_result",
          "data": {
            "text/plain": [
              "              id  class\n",
              "0  id_f5l6neabz0      0\n",
              "1  id_7u688i5j5v      0\n",
              "2  id_wm2bkde80r      0\n",
              "3  id_0e6spuo284      0\n",
              "4  id_dm71xazj94      0"
            ],
            "text/html": [
              "\n",
              "  <div id=\"df-cdd21b3a-ddfb-4b1b-8c40-161cdc2e6c98\" class=\"colab-df-container\">\n",
              "    <div>\n",
              "<style scoped>\n",
              "    .dataframe tbody tr th:only-of-type {\n",
              "        vertical-align: middle;\n",
              "    }\n",
              "\n",
              "    .dataframe tbody tr th {\n",
              "        vertical-align: top;\n",
              "    }\n",
              "\n",
              "    .dataframe thead th {\n",
              "        text-align: right;\n",
              "    }\n",
              "</style>\n",
              "<table border=\"1\" class=\"dataframe\">\n",
              "  <thead>\n",
              "    <tr style=\"text-align: right;\">\n",
              "      <th></th>\n",
              "      <th>id</th>\n",
              "      <th>class</th>\n",
              "    </tr>\n",
              "  </thead>\n",
              "  <tbody>\n",
              "    <tr>\n",
              "      <th>0</th>\n",
              "      <td>id_f5l6neabz0</td>\n",
              "      <td>0</td>\n",
              "    </tr>\n",
              "    <tr>\n",
              "      <th>1</th>\n",
              "      <td>id_7u688i5j5v</td>\n",
              "      <td>0</td>\n",
              "    </tr>\n",
              "    <tr>\n",
              "      <th>2</th>\n",
              "      <td>id_wm2bkde80r</td>\n",
              "      <td>0</td>\n",
              "    </tr>\n",
              "    <tr>\n",
              "      <th>3</th>\n",
              "      <td>id_0e6spuo284</td>\n",
              "      <td>0</td>\n",
              "    </tr>\n",
              "    <tr>\n",
              "      <th>4</th>\n",
              "      <td>id_dm71xazj94</td>\n",
              "      <td>0</td>\n",
              "    </tr>\n",
              "  </tbody>\n",
              "</table>\n",
              "</div>\n",
              "    <div class=\"colab-df-buttons\">\n",
              "\n",
              "  <div class=\"colab-df-container\">\n",
              "    <button class=\"colab-df-convert\" onclick=\"convertToInteractive('df-cdd21b3a-ddfb-4b1b-8c40-161cdc2e6c98')\"\n",
              "            title=\"Convert this dataframe to an interactive table.\"\n",
              "            style=\"display:none;\">\n",
              "\n",
              "  <svg xmlns=\"http://www.w3.org/2000/svg\" height=\"24px\" viewBox=\"0 -960 960 960\">\n",
              "    <path d=\"M120-120v-720h720v720H120Zm60-500h600v-160H180v160Zm220 220h160v-160H400v160Zm0 220h160v-160H400v160ZM180-400h160v-160H180v160Zm440 0h160v-160H620v160ZM180-180h160v-160H180v160Zm440 0h160v-160H620v160Z\"/>\n",
              "  </svg>\n",
              "    </button>\n",
              "\n",
              "  <style>\n",
              "    .colab-df-container {\n",
              "      display:flex;\n",
              "      gap: 12px;\n",
              "    }\n",
              "\n",
              "    .colab-df-convert {\n",
              "      background-color: #E8F0FE;\n",
              "      border: none;\n",
              "      border-radius: 50%;\n",
              "      cursor: pointer;\n",
              "      display: none;\n",
              "      fill: #1967D2;\n",
              "      height: 32px;\n",
              "      padding: 0 0 0 0;\n",
              "      width: 32px;\n",
              "    }\n",
              "\n",
              "    .colab-df-convert:hover {\n",
              "      background-color: #E2EBFA;\n",
              "      box-shadow: 0px 1px 2px rgba(60, 64, 67, 0.3), 0px 1px 3px 1px rgba(60, 64, 67, 0.15);\n",
              "      fill: #174EA6;\n",
              "    }\n",
              "\n",
              "    .colab-df-buttons div {\n",
              "      margin-bottom: 4px;\n",
              "    }\n",
              "\n",
              "    [theme=dark] .colab-df-convert {\n",
              "      background-color: #3B4455;\n",
              "      fill: #D2E3FC;\n",
              "    }\n",
              "\n",
              "    [theme=dark] .colab-df-convert:hover {\n",
              "      background-color: #434B5C;\n",
              "      box-shadow: 0px 1px 3px 1px rgba(0, 0, 0, 0.15);\n",
              "      filter: drop-shadow(0px 1px 2px rgba(0, 0, 0, 0.3));\n",
              "      fill: #FFFFFF;\n",
              "    }\n",
              "  </style>\n",
              "\n",
              "    <script>\n",
              "      const buttonEl =\n",
              "        document.querySelector('#df-cdd21b3a-ddfb-4b1b-8c40-161cdc2e6c98 button.colab-df-convert');\n",
              "      buttonEl.style.display =\n",
              "        google.colab.kernel.accessAllowed ? 'block' : 'none';\n",
              "\n",
              "      async function convertToInteractive(key) {\n",
              "        const element = document.querySelector('#df-cdd21b3a-ddfb-4b1b-8c40-161cdc2e6c98');\n",
              "        const dataTable =\n",
              "          await google.colab.kernel.invokeFunction('convertToInteractive',\n",
              "                                                    [key], {});\n",
              "        if (!dataTable) return;\n",
              "\n",
              "        const docLinkHtml = 'Like what you see? Visit the ' +\n",
              "          '<a target=\"_blank\" href=https://colab.research.google.com/notebooks/data_table.ipynb>data table notebook</a>'\n",
              "          + ' to learn more about interactive tables.';\n",
              "        element.innerHTML = '';\n",
              "        dataTable['output_type'] = 'display_data';\n",
              "        await google.colab.output.renderOutput(dataTable, element);\n",
              "        const docLink = document.createElement('div');\n",
              "        docLink.innerHTML = docLinkHtml;\n",
              "        element.appendChild(docLink);\n",
              "      }\n",
              "    </script>\n",
              "  </div>\n",
              "\n",
              "\n",
              "<div id=\"df-46e3420f-5110-4e76-9302-afff917c5dfa\">\n",
              "  <button class=\"colab-df-quickchart\" onclick=\"quickchart('df-46e3420f-5110-4e76-9302-afff917c5dfa')\"\n",
              "            title=\"Suggest charts\"\n",
              "            style=\"display:none;\">\n",
              "\n",
              "<svg xmlns=\"http://www.w3.org/2000/svg\" height=\"24px\"viewBox=\"0 0 24 24\"\n",
              "     width=\"24px\">\n",
              "    <g>\n",
              "        <path d=\"M19 3H5c-1.1 0-2 .9-2 2v14c0 1.1.9 2 2 2h14c1.1 0 2-.9 2-2V5c0-1.1-.9-2-2-2zM9 17H7v-7h2v7zm4 0h-2V7h2v10zm4 0h-2v-4h2v4z\"/>\n",
              "    </g>\n",
              "</svg>\n",
              "  </button>\n",
              "\n",
              "<style>\n",
              "  .colab-df-quickchart {\n",
              "      --bg-color: #E8F0FE;\n",
              "      --fill-color: #1967D2;\n",
              "      --hover-bg-color: #E2EBFA;\n",
              "      --hover-fill-color: #174EA6;\n",
              "      --disabled-fill-color: #AAA;\n",
              "      --disabled-bg-color: #DDD;\n",
              "  }\n",
              "\n",
              "  [theme=dark] .colab-df-quickchart {\n",
              "      --bg-color: #3B4455;\n",
              "      --fill-color: #D2E3FC;\n",
              "      --hover-bg-color: #434B5C;\n",
              "      --hover-fill-color: #FFFFFF;\n",
              "      --disabled-bg-color: #3B4455;\n",
              "      --disabled-fill-color: #666;\n",
              "  }\n",
              "\n",
              "  .colab-df-quickchart {\n",
              "    background-color: var(--bg-color);\n",
              "    border: none;\n",
              "    border-radius: 50%;\n",
              "    cursor: pointer;\n",
              "    display: none;\n",
              "    fill: var(--fill-color);\n",
              "    height: 32px;\n",
              "    padding: 0;\n",
              "    width: 32px;\n",
              "  }\n",
              "\n",
              "  .colab-df-quickchart:hover {\n",
              "    background-color: var(--hover-bg-color);\n",
              "    box-shadow: 0 1px 2px rgba(60, 64, 67, 0.3), 0 1px 3px 1px rgba(60, 64, 67, 0.15);\n",
              "    fill: var(--button-hover-fill-color);\n",
              "  }\n",
              "\n",
              "  .colab-df-quickchart-complete:disabled,\n",
              "  .colab-df-quickchart-complete:disabled:hover {\n",
              "    background-color: var(--disabled-bg-color);\n",
              "    fill: var(--disabled-fill-color);\n",
              "    box-shadow: none;\n",
              "  }\n",
              "\n",
              "  .colab-df-spinner {\n",
              "    border: 2px solid var(--fill-color);\n",
              "    border-color: transparent;\n",
              "    border-bottom-color: var(--fill-color);\n",
              "    animation:\n",
              "      spin 1s steps(1) infinite;\n",
              "  }\n",
              "\n",
              "  @keyframes spin {\n",
              "    0% {\n",
              "      border-color: transparent;\n",
              "      border-bottom-color: var(--fill-color);\n",
              "      border-left-color: var(--fill-color);\n",
              "    }\n",
              "    20% {\n",
              "      border-color: transparent;\n",
              "      border-left-color: var(--fill-color);\n",
              "      border-top-color: var(--fill-color);\n",
              "    }\n",
              "    30% {\n",
              "      border-color: transparent;\n",
              "      border-left-color: var(--fill-color);\n",
              "      border-top-color: var(--fill-color);\n",
              "      border-right-color: var(--fill-color);\n",
              "    }\n",
              "    40% {\n",
              "      border-color: transparent;\n",
              "      border-right-color: var(--fill-color);\n",
              "      border-top-color: var(--fill-color);\n",
              "    }\n",
              "    60% {\n",
              "      border-color: transparent;\n",
              "      border-right-color: var(--fill-color);\n",
              "    }\n",
              "    80% {\n",
              "      border-color: transparent;\n",
              "      border-right-color: var(--fill-color);\n",
              "      border-bottom-color: var(--fill-color);\n",
              "    }\n",
              "    90% {\n",
              "      border-color: transparent;\n",
              "      border-bottom-color: var(--fill-color);\n",
              "    }\n",
              "  }\n",
              "</style>\n",
              "\n",
              "  <script>\n",
              "    async function quickchart(key) {\n",
              "      const quickchartButtonEl =\n",
              "        document.querySelector('#' + key + ' button');\n",
              "      quickchartButtonEl.disabled = true;  // To prevent multiple clicks.\n",
              "      quickchartButtonEl.classList.add('colab-df-spinner');\n",
              "      try {\n",
              "        const charts = await google.colab.kernel.invokeFunction(\n",
              "            'suggestCharts', [key], {});\n",
              "      } catch (error) {\n",
              "        console.error('Error during call to suggestCharts:', error);\n",
              "      }\n",
              "      quickchartButtonEl.classList.remove('colab-df-spinner');\n",
              "      quickchartButtonEl.classList.add('colab-df-quickchart-complete');\n",
              "    }\n",
              "    (() => {\n",
              "      let quickchartButtonEl =\n",
              "        document.querySelector('#df-46e3420f-5110-4e76-9302-afff917c5dfa button');\n",
              "      quickchartButtonEl.style.display =\n",
              "        google.colab.kernel.accessAllowed ? 'block' : 'none';\n",
              "    })();\n",
              "  </script>\n",
              "</div>\n",
              "\n",
              "    </div>\n",
              "  </div>\n"
            ],
            "application/vnd.google.colaboratory.intrinsic+json": {
              "type": "dataframe",
              "variable_name": "ss"
            }
          },
          "metadata": {},
          "execution_count": 29
        }
      ],
      "source": [
        "ss = pd.read_csv(f'{data_root}/SampleSubmission.csv')\n",
        "ss.head()"
      ]
    },
    {
      "cell_type": "code",
      "execution_count": 30,
      "id": "8b693ebd",
      "metadata": {
        "execution": {
          "iopub.execute_input": "2024-09-25T19:18:37.333440Z",
          "iopub.status.busy": "2024-09-25T19:18:37.332625Z",
          "iopub.status.idle": "2024-09-25T19:18:37.459380Z",
          "shell.execute_reply": "2024-09-25T19:18:37.458480Z"
        },
        "papermill": {
          "duration": 0.191851,
          "end_time": "2024-09-25T19:18:37.461354",
          "exception": false,
          "start_time": "2024-09-25T19:18:37.269503",
          "status": "completed"
        },
        "tags": [],
        "id": "8b693ebd",
        "outputId": "367c0e57-6718-4896-9af5-71c426ea02ef",
        "colab": {
          "base_uri": "https://localhost:8080/",
          "height": 206
        }
      },
      "outputs": [
        {
          "output_type": "execute_result",
          "data": {
            "text/plain": [
              "              id  ID\n",
              "0  id_xjoh8datmz   0\n",
              "1  id_ui7ciy2r2l   1\n",
              "2  id_le7254d4ch   2\n",
              "3  id_99qf1p6vg0   3\n",
              "4  id_jc5kg2grpc   4"
            ],
            "text/html": [
              "\n",
              "  <div id=\"df-f031de64-4ba1-46e2-b664-e59a43b47204\" class=\"colab-df-container\">\n",
              "    <div>\n",
              "<style scoped>\n",
              "    .dataframe tbody tr th:only-of-type {\n",
              "        vertical-align: middle;\n",
              "    }\n",
              "\n",
              "    .dataframe tbody tr th {\n",
              "        vertical-align: top;\n",
              "    }\n",
              "\n",
              "    .dataframe thead th {\n",
              "        text-align: right;\n",
              "    }\n",
              "</style>\n",
              "<table border=\"1\" class=\"dataframe\">\n",
              "  <thead>\n",
              "    <tr style=\"text-align: right;\">\n",
              "      <th></th>\n",
              "      <th>id</th>\n",
              "      <th>ID</th>\n",
              "    </tr>\n",
              "  </thead>\n",
              "  <tbody>\n",
              "    <tr>\n",
              "      <th>0</th>\n",
              "      <td>id_xjoh8datmz</td>\n",
              "      <td>0</td>\n",
              "    </tr>\n",
              "    <tr>\n",
              "      <th>1</th>\n",
              "      <td>id_ui7ciy2r2l</td>\n",
              "      <td>1</td>\n",
              "    </tr>\n",
              "    <tr>\n",
              "      <th>2</th>\n",
              "      <td>id_le7254d4ch</td>\n",
              "      <td>2</td>\n",
              "    </tr>\n",
              "    <tr>\n",
              "      <th>3</th>\n",
              "      <td>id_99qf1p6vg0</td>\n",
              "      <td>3</td>\n",
              "    </tr>\n",
              "    <tr>\n",
              "      <th>4</th>\n",
              "      <td>id_jc5kg2grpc</td>\n",
              "      <td>4</td>\n",
              "    </tr>\n",
              "  </tbody>\n",
              "</table>\n",
              "</div>\n",
              "    <div class=\"colab-df-buttons\">\n",
              "\n",
              "  <div class=\"colab-df-container\">\n",
              "    <button class=\"colab-df-convert\" onclick=\"convertToInteractive('df-f031de64-4ba1-46e2-b664-e59a43b47204')\"\n",
              "            title=\"Convert this dataframe to an interactive table.\"\n",
              "            style=\"display:none;\">\n",
              "\n",
              "  <svg xmlns=\"http://www.w3.org/2000/svg\" height=\"24px\" viewBox=\"0 -960 960 960\">\n",
              "    <path d=\"M120-120v-720h720v720H120Zm60-500h600v-160H180v160Zm220 220h160v-160H400v160Zm0 220h160v-160H400v160ZM180-400h160v-160H180v160Zm440 0h160v-160H620v160ZM180-180h160v-160H180v160Zm440 0h160v-160H620v160Z\"/>\n",
              "  </svg>\n",
              "    </button>\n",
              "\n",
              "  <style>\n",
              "    .colab-df-container {\n",
              "      display:flex;\n",
              "      gap: 12px;\n",
              "    }\n",
              "\n",
              "    .colab-df-convert {\n",
              "      background-color: #E8F0FE;\n",
              "      border: none;\n",
              "      border-radius: 50%;\n",
              "      cursor: pointer;\n",
              "      display: none;\n",
              "      fill: #1967D2;\n",
              "      height: 32px;\n",
              "      padding: 0 0 0 0;\n",
              "      width: 32px;\n",
              "    }\n",
              "\n",
              "    .colab-df-convert:hover {\n",
              "      background-color: #E2EBFA;\n",
              "      box-shadow: 0px 1px 2px rgba(60, 64, 67, 0.3), 0px 1px 3px 1px rgba(60, 64, 67, 0.15);\n",
              "      fill: #174EA6;\n",
              "    }\n",
              "\n",
              "    .colab-df-buttons div {\n",
              "      margin-bottom: 4px;\n",
              "    }\n",
              "\n",
              "    [theme=dark] .colab-df-convert {\n",
              "      background-color: #3B4455;\n",
              "      fill: #D2E3FC;\n",
              "    }\n",
              "\n",
              "    [theme=dark] .colab-df-convert:hover {\n",
              "      background-color: #434B5C;\n",
              "      box-shadow: 0px 1px 3px 1px rgba(0, 0, 0, 0.15);\n",
              "      filter: drop-shadow(0px 1px 2px rgba(0, 0, 0, 0.3));\n",
              "      fill: #FFFFFF;\n",
              "    }\n",
              "  </style>\n",
              "\n",
              "    <script>\n",
              "      const buttonEl =\n",
              "        document.querySelector('#df-f031de64-4ba1-46e2-b664-e59a43b47204 button.colab-df-convert');\n",
              "      buttonEl.style.display =\n",
              "        google.colab.kernel.accessAllowed ? 'block' : 'none';\n",
              "\n",
              "      async function convertToInteractive(key) {\n",
              "        const element = document.querySelector('#df-f031de64-4ba1-46e2-b664-e59a43b47204');\n",
              "        const dataTable =\n",
              "          await google.colab.kernel.invokeFunction('convertToInteractive',\n",
              "                                                    [key], {});\n",
              "        if (!dataTable) return;\n",
              "\n",
              "        const docLinkHtml = 'Like what you see? Visit the ' +\n",
              "          '<a target=\"_blank\" href=https://colab.research.google.com/notebooks/data_table.ipynb>data table notebook</a>'\n",
              "          + ' to learn more about interactive tables.';\n",
              "        element.innerHTML = '';\n",
              "        dataTable['output_type'] = 'display_data';\n",
              "        await google.colab.output.renderOutput(dataTable, element);\n",
              "        const docLink = document.createElement('div');\n",
              "        docLink.innerHTML = docLinkHtml;\n",
              "        element.appendChild(docLink);\n",
              "      }\n",
              "    </script>\n",
              "  </div>\n",
              "\n",
              "\n",
              "<div id=\"df-45d80966-ae26-4a66-982d-8ffe38cb1213\">\n",
              "  <button class=\"colab-df-quickchart\" onclick=\"quickchart('df-45d80966-ae26-4a66-982d-8ffe38cb1213')\"\n",
              "            title=\"Suggest charts\"\n",
              "            style=\"display:none;\">\n",
              "\n",
              "<svg xmlns=\"http://www.w3.org/2000/svg\" height=\"24px\"viewBox=\"0 0 24 24\"\n",
              "     width=\"24px\">\n",
              "    <g>\n",
              "        <path d=\"M19 3H5c-1.1 0-2 .9-2 2v14c0 1.1.9 2 2 2h14c1.1 0 2-.9 2-2V5c0-1.1-.9-2-2-2zM9 17H7v-7h2v7zm4 0h-2V7h2v10zm4 0h-2v-4h2v4z\"/>\n",
              "    </g>\n",
              "</svg>\n",
              "  </button>\n",
              "\n",
              "<style>\n",
              "  .colab-df-quickchart {\n",
              "      --bg-color: #E8F0FE;\n",
              "      --fill-color: #1967D2;\n",
              "      --hover-bg-color: #E2EBFA;\n",
              "      --hover-fill-color: #174EA6;\n",
              "      --disabled-fill-color: #AAA;\n",
              "      --disabled-bg-color: #DDD;\n",
              "  }\n",
              "\n",
              "  [theme=dark] .colab-df-quickchart {\n",
              "      --bg-color: #3B4455;\n",
              "      --fill-color: #D2E3FC;\n",
              "      --hover-bg-color: #434B5C;\n",
              "      --hover-fill-color: #FFFFFF;\n",
              "      --disabled-bg-color: #3B4455;\n",
              "      --disabled-fill-color: #666;\n",
              "  }\n",
              "\n",
              "  .colab-df-quickchart {\n",
              "    background-color: var(--bg-color);\n",
              "    border: none;\n",
              "    border-radius: 50%;\n",
              "    cursor: pointer;\n",
              "    display: none;\n",
              "    fill: var(--fill-color);\n",
              "    height: 32px;\n",
              "    padding: 0;\n",
              "    width: 32px;\n",
              "  }\n",
              "\n",
              "  .colab-df-quickchart:hover {\n",
              "    background-color: var(--hover-bg-color);\n",
              "    box-shadow: 0 1px 2px rgba(60, 64, 67, 0.3), 0 1px 3px 1px rgba(60, 64, 67, 0.15);\n",
              "    fill: var(--button-hover-fill-color);\n",
              "  }\n",
              "\n",
              "  .colab-df-quickchart-complete:disabled,\n",
              "  .colab-df-quickchart-complete:disabled:hover {\n",
              "    background-color: var(--disabled-bg-color);\n",
              "    fill: var(--disabled-fill-color);\n",
              "    box-shadow: none;\n",
              "  }\n",
              "\n",
              "  .colab-df-spinner {\n",
              "    border: 2px solid var(--fill-color);\n",
              "    border-color: transparent;\n",
              "    border-bottom-color: var(--fill-color);\n",
              "    animation:\n",
              "      spin 1s steps(1) infinite;\n",
              "  }\n",
              "\n",
              "  @keyframes spin {\n",
              "    0% {\n",
              "      border-color: transparent;\n",
              "      border-bottom-color: var(--fill-color);\n",
              "      border-left-color: var(--fill-color);\n",
              "    }\n",
              "    20% {\n",
              "      border-color: transparent;\n",
              "      border-left-color: var(--fill-color);\n",
              "      border-top-color: var(--fill-color);\n",
              "    }\n",
              "    30% {\n",
              "      border-color: transparent;\n",
              "      border-left-color: var(--fill-color);\n",
              "      border-top-color: var(--fill-color);\n",
              "      border-right-color: var(--fill-color);\n",
              "    }\n",
              "    40% {\n",
              "      border-color: transparent;\n",
              "      border-right-color: var(--fill-color);\n",
              "      border-top-color: var(--fill-color);\n",
              "    }\n",
              "    60% {\n",
              "      border-color: transparent;\n",
              "      border-right-color: var(--fill-color);\n",
              "    }\n",
              "    80% {\n",
              "      border-color: transparent;\n",
              "      border-right-color: var(--fill-color);\n",
              "      border-bottom-color: var(--fill-color);\n",
              "    }\n",
              "    90% {\n",
              "      border-color: transparent;\n",
              "      border-bottom-color: var(--fill-color);\n",
              "    }\n",
              "  }\n",
              "</style>\n",
              "\n",
              "  <script>\n",
              "    async function quickchart(key) {\n",
              "      const quickchartButtonEl =\n",
              "        document.querySelector('#' + key + ' button');\n",
              "      quickchartButtonEl.disabled = true;  // To prevent multiple clicks.\n",
              "      quickchartButtonEl.classList.add('colab-df-spinner');\n",
              "      try {\n",
              "        const charts = await google.colab.kernel.invokeFunction(\n",
              "            'suggestCharts', [key], {});\n",
              "      } catch (error) {\n",
              "        console.error('Error during call to suggestCharts:', error);\n",
              "      }\n",
              "      quickchartButtonEl.classList.remove('colab-df-spinner');\n",
              "      quickchartButtonEl.classList.add('colab-df-quickchart-complete');\n",
              "    }\n",
              "    (() => {\n",
              "      let quickchartButtonEl =\n",
              "        document.querySelector('#df-45d80966-ae26-4a66-982d-8ffe38cb1213 button');\n",
              "      quickchartButtonEl.style.display =\n",
              "        google.colab.kernel.accessAllowed ? 'block' : 'none';\n",
              "    })();\n",
              "  </script>\n",
              "</div>\n",
              "\n",
              "    </div>\n",
              "  </div>\n"
            ],
            "application/vnd.google.colaboratory.intrinsic+json": {
              "type": "dataframe",
              "variable_name": "id_map"
            }
          },
          "metadata": {},
          "execution_count": 30
        }
      ],
      "source": [
        "id_map = pd.read_csv(f'{data_root}/id_map.csv')\n",
        "id_map.head()"
      ]
    },
    {
      "cell_type": "code",
      "execution_count": 31,
      "id": "533af485",
      "metadata": {
        "execution": {
          "iopub.execute_input": "2024-09-25T19:18:37.589882Z",
          "iopub.status.busy": "2024-09-25T19:18:37.589003Z",
          "iopub.status.idle": "2024-09-25T19:18:37.612566Z",
          "shell.execute_reply": "2024-09-25T19:18:37.611640Z"
        },
        "papermill": {
          "duration": 0.088816,
          "end_time": "2024-09-25T19:18:37.614527",
          "exception": false,
          "start_time": "2024-09-25T19:18:37.525711",
          "status": "completed"
        },
        "tags": [],
        "id": "533af485",
        "outputId": "6e733b17-edd5-4665-b958-f20a12b8c189",
        "colab": {
          "base_uri": "https://localhost:8080/",
          "height": 238
        }
      },
      "outputs": [
        {
          "output_type": "execute_result",
          "data": {
            "text/plain": [
              "               id     class\n",
              "ID                         \n",
              "0   id_xjoh8datmz  0.273193\n",
              "1   id_ui7ciy2r2l  0.174927\n",
              "2   id_le7254d4ch  0.289307\n",
              "3   id_99qf1p6vg0  0.226440\n",
              "4   id_jc5kg2grpc  0.271240"
            ],
            "text/html": [
              "\n",
              "  <div id=\"df-f24ae6b3-5766-4a38-be41-c52501a1c214\" class=\"colab-df-container\">\n",
              "    <div>\n",
              "<style scoped>\n",
              "    .dataframe tbody tr th:only-of-type {\n",
              "        vertical-align: middle;\n",
              "    }\n",
              "\n",
              "    .dataframe tbody tr th {\n",
              "        vertical-align: top;\n",
              "    }\n",
              "\n",
              "    .dataframe thead th {\n",
              "        text-align: right;\n",
              "    }\n",
              "</style>\n",
              "<table border=\"1\" class=\"dataframe\">\n",
              "  <thead>\n",
              "    <tr style=\"text-align: right;\">\n",
              "      <th></th>\n",
              "      <th>id</th>\n",
              "      <th>class</th>\n",
              "    </tr>\n",
              "    <tr>\n",
              "      <th>ID</th>\n",
              "      <th></th>\n",
              "      <th></th>\n",
              "    </tr>\n",
              "  </thead>\n",
              "  <tbody>\n",
              "    <tr>\n",
              "      <th>0</th>\n",
              "      <td>id_xjoh8datmz</td>\n",
              "      <td>0.273193</td>\n",
              "    </tr>\n",
              "    <tr>\n",
              "      <th>1</th>\n",
              "      <td>id_ui7ciy2r2l</td>\n",
              "      <td>0.174927</td>\n",
              "    </tr>\n",
              "    <tr>\n",
              "      <th>2</th>\n",
              "      <td>id_le7254d4ch</td>\n",
              "      <td>0.289307</td>\n",
              "    </tr>\n",
              "    <tr>\n",
              "      <th>3</th>\n",
              "      <td>id_99qf1p6vg0</td>\n",
              "      <td>0.226440</td>\n",
              "    </tr>\n",
              "    <tr>\n",
              "      <th>4</th>\n",
              "      <td>id_jc5kg2grpc</td>\n",
              "      <td>0.271240</td>\n",
              "    </tr>\n",
              "  </tbody>\n",
              "</table>\n",
              "</div>\n",
              "    <div class=\"colab-df-buttons\">\n",
              "\n",
              "  <div class=\"colab-df-container\">\n",
              "    <button class=\"colab-df-convert\" onclick=\"convertToInteractive('df-f24ae6b3-5766-4a38-be41-c52501a1c214')\"\n",
              "            title=\"Convert this dataframe to an interactive table.\"\n",
              "            style=\"display:none;\">\n",
              "\n",
              "  <svg xmlns=\"http://www.w3.org/2000/svg\" height=\"24px\" viewBox=\"0 -960 960 960\">\n",
              "    <path d=\"M120-120v-720h720v720H120Zm60-500h600v-160H180v160Zm220 220h160v-160H400v160Zm0 220h160v-160H400v160ZM180-400h160v-160H180v160Zm440 0h160v-160H620v160ZM180-180h160v-160H180v160Zm440 0h160v-160H620v160Z\"/>\n",
              "  </svg>\n",
              "    </button>\n",
              "\n",
              "  <style>\n",
              "    .colab-df-container {\n",
              "      display:flex;\n",
              "      gap: 12px;\n",
              "    }\n",
              "\n",
              "    .colab-df-convert {\n",
              "      background-color: #E8F0FE;\n",
              "      border: none;\n",
              "      border-radius: 50%;\n",
              "      cursor: pointer;\n",
              "      display: none;\n",
              "      fill: #1967D2;\n",
              "      height: 32px;\n",
              "      padding: 0 0 0 0;\n",
              "      width: 32px;\n",
              "    }\n",
              "\n",
              "    .colab-df-convert:hover {\n",
              "      background-color: #E2EBFA;\n",
              "      box-shadow: 0px 1px 2px rgba(60, 64, 67, 0.3), 0px 1px 3px 1px rgba(60, 64, 67, 0.15);\n",
              "      fill: #174EA6;\n",
              "    }\n",
              "\n",
              "    .colab-df-buttons div {\n",
              "      margin-bottom: 4px;\n",
              "    }\n",
              "\n",
              "    [theme=dark] .colab-df-convert {\n",
              "      background-color: #3B4455;\n",
              "      fill: #D2E3FC;\n",
              "    }\n",
              "\n",
              "    [theme=dark] .colab-df-convert:hover {\n",
              "      background-color: #434B5C;\n",
              "      box-shadow: 0px 1px 3px 1px rgba(0, 0, 0, 0.15);\n",
              "      filter: drop-shadow(0px 1px 2px rgba(0, 0, 0, 0.3));\n",
              "      fill: #FFFFFF;\n",
              "    }\n",
              "  </style>\n",
              "\n",
              "    <script>\n",
              "      const buttonEl =\n",
              "        document.querySelector('#df-f24ae6b3-5766-4a38-be41-c52501a1c214 button.colab-df-convert');\n",
              "      buttonEl.style.display =\n",
              "        google.colab.kernel.accessAllowed ? 'block' : 'none';\n",
              "\n",
              "      async function convertToInteractive(key) {\n",
              "        const element = document.querySelector('#df-f24ae6b3-5766-4a38-be41-c52501a1c214');\n",
              "        const dataTable =\n",
              "          await google.colab.kernel.invokeFunction('convertToInteractive',\n",
              "                                                    [key], {});\n",
              "        if (!dataTable) return;\n",
              "\n",
              "        const docLinkHtml = 'Like what you see? Visit the ' +\n",
              "          '<a target=\"_blank\" href=https://colab.research.google.com/notebooks/data_table.ipynb>data table notebook</a>'\n",
              "          + ' to learn more about interactive tables.';\n",
              "        element.innerHTML = '';\n",
              "        dataTable['output_type'] = 'display_data';\n",
              "        await google.colab.output.renderOutput(dataTable, element);\n",
              "        const docLink = document.createElement('div');\n",
              "        docLink.innerHTML = docLinkHtml;\n",
              "        element.appendChild(docLink);\n",
              "      }\n",
              "    </script>\n",
              "  </div>\n",
              "\n",
              "\n",
              "<div id=\"df-b5398142-dfa8-44a8-ad5b-f0ff447a10b8\">\n",
              "  <button class=\"colab-df-quickchart\" onclick=\"quickchart('df-b5398142-dfa8-44a8-ad5b-f0ff447a10b8')\"\n",
              "            title=\"Suggest charts\"\n",
              "            style=\"display:none;\">\n",
              "\n",
              "<svg xmlns=\"http://www.w3.org/2000/svg\" height=\"24px\"viewBox=\"0 0 24 24\"\n",
              "     width=\"24px\">\n",
              "    <g>\n",
              "        <path d=\"M19 3H5c-1.1 0-2 .9-2 2v14c0 1.1.9 2 2 2h14c1.1 0 2-.9 2-2V5c0-1.1-.9-2-2-2zM9 17H7v-7h2v7zm4 0h-2V7h2v10zm4 0h-2v-4h2v4z\"/>\n",
              "    </g>\n",
              "</svg>\n",
              "  </button>\n",
              "\n",
              "<style>\n",
              "  .colab-df-quickchart {\n",
              "      --bg-color: #E8F0FE;\n",
              "      --fill-color: #1967D2;\n",
              "      --hover-bg-color: #E2EBFA;\n",
              "      --hover-fill-color: #174EA6;\n",
              "      --disabled-fill-color: #AAA;\n",
              "      --disabled-bg-color: #DDD;\n",
              "  }\n",
              "\n",
              "  [theme=dark] .colab-df-quickchart {\n",
              "      --bg-color: #3B4455;\n",
              "      --fill-color: #D2E3FC;\n",
              "      --hover-bg-color: #434B5C;\n",
              "      --hover-fill-color: #FFFFFF;\n",
              "      --disabled-bg-color: #3B4455;\n",
              "      --disabled-fill-color: #666;\n",
              "  }\n",
              "\n",
              "  .colab-df-quickchart {\n",
              "    background-color: var(--bg-color);\n",
              "    border: none;\n",
              "    border-radius: 50%;\n",
              "    cursor: pointer;\n",
              "    display: none;\n",
              "    fill: var(--fill-color);\n",
              "    height: 32px;\n",
              "    padding: 0;\n",
              "    width: 32px;\n",
              "  }\n",
              "\n",
              "  .colab-df-quickchart:hover {\n",
              "    background-color: var(--hover-bg-color);\n",
              "    box-shadow: 0 1px 2px rgba(60, 64, 67, 0.3), 0 1px 3px 1px rgba(60, 64, 67, 0.15);\n",
              "    fill: var(--button-hover-fill-color);\n",
              "  }\n",
              "\n",
              "  .colab-df-quickchart-complete:disabled,\n",
              "  .colab-df-quickchart-complete:disabled:hover {\n",
              "    background-color: var(--disabled-bg-color);\n",
              "    fill: var(--disabled-fill-color);\n",
              "    box-shadow: none;\n",
              "  }\n",
              "\n",
              "  .colab-df-spinner {\n",
              "    border: 2px solid var(--fill-color);\n",
              "    border-color: transparent;\n",
              "    border-bottom-color: var(--fill-color);\n",
              "    animation:\n",
              "      spin 1s steps(1) infinite;\n",
              "  }\n",
              "\n",
              "  @keyframes spin {\n",
              "    0% {\n",
              "      border-color: transparent;\n",
              "      border-bottom-color: var(--fill-color);\n",
              "      border-left-color: var(--fill-color);\n",
              "    }\n",
              "    20% {\n",
              "      border-color: transparent;\n",
              "      border-left-color: var(--fill-color);\n",
              "      border-top-color: var(--fill-color);\n",
              "    }\n",
              "    30% {\n",
              "      border-color: transparent;\n",
              "      border-left-color: var(--fill-color);\n",
              "      border-top-color: var(--fill-color);\n",
              "      border-right-color: var(--fill-color);\n",
              "    }\n",
              "    40% {\n",
              "      border-color: transparent;\n",
              "      border-right-color: var(--fill-color);\n",
              "      border-top-color: var(--fill-color);\n",
              "    }\n",
              "    60% {\n",
              "      border-color: transparent;\n",
              "      border-right-color: var(--fill-color);\n",
              "    }\n",
              "    80% {\n",
              "      border-color: transparent;\n",
              "      border-right-color: var(--fill-color);\n",
              "      border-bottom-color: var(--fill-color);\n",
              "    }\n",
              "    90% {\n",
              "      border-color: transparent;\n",
              "      border-bottom-color: var(--fill-color);\n",
              "    }\n",
              "  }\n",
              "</style>\n",
              "\n",
              "  <script>\n",
              "    async function quickchart(key) {\n",
              "      const quickchartButtonEl =\n",
              "        document.querySelector('#' + key + ' button');\n",
              "      quickchartButtonEl.disabled = true;  // To prevent multiple clicks.\n",
              "      quickchartButtonEl.classList.add('colab-df-spinner');\n",
              "      try {\n",
              "        const charts = await google.colab.kernel.invokeFunction(\n",
              "            'suggestCharts', [key], {});\n",
              "      } catch (error) {\n",
              "        console.error('Error during call to suggestCharts:', error);\n",
              "      }\n",
              "      quickchartButtonEl.classList.remove('colab-df-spinner');\n",
              "      quickchartButtonEl.classList.add('colab-df-quickchart-complete');\n",
              "    }\n",
              "    (() => {\n",
              "      let quickchartButtonEl =\n",
              "        document.querySelector('#df-b5398142-dfa8-44a8-ad5b-f0ff447a10b8 button');\n",
              "      quickchartButtonEl.style.display =\n",
              "        google.colab.kernel.accessAllowed ? 'block' : 'none';\n",
              "    })();\n",
              "  </script>\n",
              "</div>\n",
              "\n",
              "    </div>\n",
              "  </div>\n"
            ],
            "application/vnd.google.colaboratory.intrinsic+json": {
              "type": "dataframe",
              "variable_name": "sub"
            }
          },
          "metadata": {},
          "execution_count": 31
        }
      ],
      "source": [
        "sub = id_map.sort_values('ID').set_index('ID')\n",
        "sub['class'] = preds\n",
        "sub.head()"
      ]
    },
    {
      "cell_type": "code",
      "execution_count": 32,
      "id": "89f0a74d",
      "metadata": {
        "execution": {
          "iopub.execute_input": "2024-09-25T19:18:37.741194Z",
          "iopub.status.busy": "2024-09-25T19:18:37.740631Z",
          "iopub.status.idle": "2024-09-25T19:18:38.001140Z",
          "shell.execute_reply": "2024-09-25T19:18:38.000132Z"
        },
        "papermill": {
          "duration": 0.326209,
          "end_time": "2024-09-25T19:18:38.003538",
          "exception": false,
          "start_time": "2024-09-25T19:18:37.677329",
          "status": "completed"
        },
        "tags": [],
        "id": "89f0a74d"
      },
      "outputs": [],
      "source": [
        "sub.to_csv('Subb.csv', index=False)"
      ]
    },
    {
      "cell_type": "code",
      "execution_count": null,
      "id": "f7afe94c",
      "metadata": {
        "papermill": {
          "duration": 0.063363,
          "end_time": "2024-09-25T19:18:38.129613",
          "exception": false,
          "start_time": "2024-09-25T19:18:38.066250",
          "status": "completed"
        },
        "tags": [],
        "id": "f7afe94c"
      },
      "outputs": [],
      "source": []
    },
    {
      "cell_type": "code",
      "execution_count": null,
      "id": "c4f2bf7e",
      "metadata": {
        "papermill": {
          "duration": 0.067126,
          "end_time": "2024-09-25T19:18:38.259352",
          "exception": false,
          "start_time": "2024-09-25T19:18:38.192226",
          "status": "completed"
        },
        "tags": [],
        "id": "c4f2bf7e"
      },
      "outputs": [],
      "source": []
    }
  ],
  "metadata": {
    "kaggle": {
      "accelerator": "nvidiaTeslaT4",
      "dataSources": [
        {
          "datasetId": 5653019,
          "sourceId": 9330203,
          "sourceType": "datasetVersion"
        }
      ],
      "dockerImageVersionId": 30776,
      "isGpuEnabled": true,
      "isInternetEnabled": true,
      "language": "python",
      "sourceType": "notebook"
    },
    "kernelspec": {
      "display_name": "Python 3",
      "name": "python3"
    },
    "language_info": {
      "codemirror_mode": {
        "name": "ipython",
        "version": 3
      },
      "file_extension": ".py",
      "mimetype": "text/x-python",
      "name": "python",
      "nbconvert_exporter": "python",
      "pygments_lexer": "ipython3",
      "version": "3.10.14"
    },
    "papermill": {
      "default_parameters": {},
      "duration": 12006.384458,
      "end_time": "2024-09-25T19:18:41.251590",
      "environment_variables": {},
      "exception": null,
      "input_path": "__notebook__.ipynb",
      "output_path": "__notebook__.ipynb",
      "parameters": {},
      "start_time": "2024-09-25T15:58:34.867132",
      "version": "2.6.0"
    },
    "colab": {
      "provenance": [],
      "gpuType": "T4"
    },
    "accelerator": "GPU",
    "widgets": {
      "application/vnd.jupyter.widget-state+json": {
        "1be02879b1a943eeb964ec3bc16cee8d": {
          "model_module": "@jupyter-widgets/controls",
          "model_name": "HBoxModel",
          "model_module_version": "1.5.0",
          "state": {
            "_dom_classes": [],
            "_model_module": "@jupyter-widgets/controls",
            "_model_module_version": "1.5.0",
            "_model_name": "HBoxModel",
            "_view_count": null,
            "_view_module": "@jupyter-widgets/controls",
            "_view_module_version": "1.5.0",
            "_view_name": "HBoxView",
            "box_style": "",
            "children": [
              "IPY_MODEL_ad93db36af3248b38010ba8a89e1e11e",
              "IPY_MODEL_4c0d80b968664f098e1348db9216565a",
              "IPY_MODEL_533b88a906d04a8380706251aa263cb3"
            ],
            "layout": "IPY_MODEL_4de05b05d9644483bdda44f9af404262"
          }
        },
        "ad93db36af3248b38010ba8a89e1e11e": {
          "model_module": "@jupyter-widgets/controls",
          "model_name": "HTMLModel",
          "model_module_version": "1.5.0",
          "state": {
            "_dom_classes": [],
            "_model_module": "@jupyter-widgets/controls",
            "_model_module_version": "1.5.0",
            "_model_name": "HTMLModel",
            "_view_count": null,
            "_view_module": "@jupyter-widgets/controls",
            "_view_module_version": "1.5.0",
            "_view_name": "HTMLView",
            "description": "",
            "description_tooltip": null,
            "layout": "IPY_MODEL_9d6aaf01672c4d6eb27af756e6baa60b",
            "placeholder": "​",
            "style": "IPY_MODEL_f79a05fb775344939cb5caf7489b30b1",
            "value": "Sanity Checking DataLoader 0: 100%"
          }
        },
        "4c0d80b968664f098e1348db9216565a": {
          "model_module": "@jupyter-widgets/controls",
          "model_name": "FloatProgressModel",
          "model_module_version": "1.5.0",
          "state": {
            "_dom_classes": [],
            "_model_module": "@jupyter-widgets/controls",
            "_model_module_version": "1.5.0",
            "_model_name": "FloatProgressModel",
            "_view_count": null,
            "_view_module": "@jupyter-widgets/controls",
            "_view_module_version": "1.5.0",
            "_view_name": "ProgressView",
            "bar_style": "",
            "description": "",
            "description_tooltip": null,
            "layout": "IPY_MODEL_f7eef55ec1974de4be536e6b8d017c3d",
            "max": 2,
            "min": 0,
            "orientation": "horizontal",
            "style": "IPY_MODEL_1dcfd9642907431197086193ea99efbe",
            "value": 2
          }
        },
        "533b88a906d04a8380706251aa263cb3": {
          "model_module": "@jupyter-widgets/controls",
          "model_name": "HTMLModel",
          "model_module_version": "1.5.0",
          "state": {
            "_dom_classes": [],
            "_model_module": "@jupyter-widgets/controls",
            "_model_module_version": "1.5.0",
            "_model_name": "HTMLModel",
            "_view_count": null,
            "_view_module": "@jupyter-widgets/controls",
            "_view_module_version": "1.5.0",
            "_view_name": "HTMLView",
            "description": "",
            "description_tooltip": null,
            "layout": "IPY_MODEL_7e673d0192a64b5d8f65c02f533a032e",
            "placeholder": "​",
            "style": "IPY_MODEL_5678c537a6734748a4845f10ca0f9636",
            "value": " 2/2 [00:01&lt;00:00,  1.13it/s]"
          }
        },
        "4de05b05d9644483bdda44f9af404262": {
          "model_module": "@jupyter-widgets/base",
          "model_name": "LayoutModel",
          "model_module_version": "1.2.0",
          "state": {
            "_model_module": "@jupyter-widgets/base",
            "_model_module_version": "1.2.0",
            "_model_name": "LayoutModel",
            "_view_count": null,
            "_view_module": "@jupyter-widgets/base",
            "_view_module_version": "1.2.0",
            "_view_name": "LayoutView",
            "align_content": null,
            "align_items": null,
            "align_self": null,
            "border": null,
            "bottom": null,
            "display": "inline-flex",
            "flex": null,
            "flex_flow": "row wrap",
            "grid_area": null,
            "grid_auto_columns": null,
            "grid_auto_flow": null,
            "grid_auto_rows": null,
            "grid_column": null,
            "grid_gap": null,
            "grid_row": null,
            "grid_template_areas": null,
            "grid_template_columns": null,
            "grid_template_rows": null,
            "height": null,
            "justify_content": null,
            "justify_items": null,
            "left": null,
            "margin": null,
            "max_height": null,
            "max_width": null,
            "min_height": null,
            "min_width": null,
            "object_fit": null,
            "object_position": null,
            "order": null,
            "overflow": null,
            "overflow_x": null,
            "overflow_y": null,
            "padding": null,
            "right": null,
            "top": null,
            "visibility": "hidden",
            "width": "100%"
          }
        },
        "9d6aaf01672c4d6eb27af756e6baa60b": {
          "model_module": "@jupyter-widgets/base",
          "model_name": "LayoutModel",
          "model_module_version": "1.2.0",
          "state": {
            "_model_module": "@jupyter-widgets/base",
            "_model_module_version": "1.2.0",
            "_model_name": "LayoutModel",
            "_view_count": null,
            "_view_module": "@jupyter-widgets/base",
            "_view_module_version": "1.2.0",
            "_view_name": "LayoutView",
            "align_content": null,
            "align_items": null,
            "align_self": null,
            "border": null,
            "bottom": null,
            "display": null,
            "flex": null,
            "flex_flow": null,
            "grid_area": null,
            "grid_auto_columns": null,
            "grid_auto_flow": null,
            "grid_auto_rows": null,
            "grid_column": null,
            "grid_gap": null,
            "grid_row": null,
            "grid_template_areas": null,
            "grid_template_columns": null,
            "grid_template_rows": null,
            "height": null,
            "justify_content": null,
            "justify_items": null,
            "left": null,
            "margin": null,
            "max_height": null,
            "max_width": null,
            "min_height": null,
            "min_width": null,
            "object_fit": null,
            "object_position": null,
            "order": null,
            "overflow": null,
            "overflow_x": null,
            "overflow_y": null,
            "padding": null,
            "right": null,
            "top": null,
            "visibility": null,
            "width": null
          }
        },
        "f79a05fb775344939cb5caf7489b30b1": {
          "model_module": "@jupyter-widgets/controls",
          "model_name": "DescriptionStyleModel",
          "model_module_version": "1.5.0",
          "state": {
            "_model_module": "@jupyter-widgets/controls",
            "_model_module_version": "1.5.0",
            "_model_name": "DescriptionStyleModel",
            "_view_count": null,
            "_view_module": "@jupyter-widgets/base",
            "_view_module_version": "1.2.0",
            "_view_name": "StyleView",
            "description_width": ""
          }
        },
        "f7eef55ec1974de4be536e6b8d017c3d": {
          "model_module": "@jupyter-widgets/base",
          "model_name": "LayoutModel",
          "model_module_version": "1.2.0",
          "state": {
            "_model_module": "@jupyter-widgets/base",
            "_model_module_version": "1.2.0",
            "_model_name": "LayoutModel",
            "_view_count": null,
            "_view_module": "@jupyter-widgets/base",
            "_view_module_version": "1.2.0",
            "_view_name": "LayoutView",
            "align_content": null,
            "align_items": null,
            "align_self": null,
            "border": null,
            "bottom": null,
            "display": null,
            "flex": "2",
            "flex_flow": null,
            "grid_area": null,
            "grid_auto_columns": null,
            "grid_auto_flow": null,
            "grid_auto_rows": null,
            "grid_column": null,
            "grid_gap": null,
            "grid_row": null,
            "grid_template_areas": null,
            "grid_template_columns": null,
            "grid_template_rows": null,
            "height": null,
            "justify_content": null,
            "justify_items": null,
            "left": null,
            "margin": null,
            "max_height": null,
            "max_width": null,
            "min_height": null,
            "min_width": null,
            "object_fit": null,
            "object_position": null,
            "order": null,
            "overflow": null,
            "overflow_x": null,
            "overflow_y": null,
            "padding": null,
            "right": null,
            "top": null,
            "visibility": null,
            "width": null
          }
        },
        "1dcfd9642907431197086193ea99efbe": {
          "model_module": "@jupyter-widgets/controls",
          "model_name": "ProgressStyleModel",
          "model_module_version": "1.5.0",
          "state": {
            "_model_module": "@jupyter-widgets/controls",
            "_model_module_version": "1.5.0",
            "_model_name": "ProgressStyleModel",
            "_view_count": null,
            "_view_module": "@jupyter-widgets/base",
            "_view_module_version": "1.2.0",
            "_view_name": "StyleView",
            "bar_color": null,
            "description_width": ""
          }
        },
        "7e673d0192a64b5d8f65c02f533a032e": {
          "model_module": "@jupyter-widgets/base",
          "model_name": "LayoutModel",
          "model_module_version": "1.2.0",
          "state": {
            "_model_module": "@jupyter-widgets/base",
            "_model_module_version": "1.2.0",
            "_model_name": "LayoutModel",
            "_view_count": null,
            "_view_module": "@jupyter-widgets/base",
            "_view_module_version": "1.2.0",
            "_view_name": "LayoutView",
            "align_content": null,
            "align_items": null,
            "align_self": null,
            "border": null,
            "bottom": null,
            "display": null,
            "flex": null,
            "flex_flow": null,
            "grid_area": null,
            "grid_auto_columns": null,
            "grid_auto_flow": null,
            "grid_auto_rows": null,
            "grid_column": null,
            "grid_gap": null,
            "grid_row": null,
            "grid_template_areas": null,
            "grid_template_columns": null,
            "grid_template_rows": null,
            "height": null,
            "justify_content": null,
            "justify_items": null,
            "left": null,
            "margin": null,
            "max_height": null,
            "max_width": null,
            "min_height": null,
            "min_width": null,
            "object_fit": null,
            "object_position": null,
            "order": null,
            "overflow": null,
            "overflow_x": null,
            "overflow_y": null,
            "padding": null,
            "right": null,
            "top": null,
            "visibility": null,
            "width": null
          }
        },
        "5678c537a6734748a4845f10ca0f9636": {
          "model_module": "@jupyter-widgets/controls",
          "model_name": "DescriptionStyleModel",
          "model_module_version": "1.5.0",
          "state": {
            "_model_module": "@jupyter-widgets/controls",
            "_model_module_version": "1.5.0",
            "_model_name": "DescriptionStyleModel",
            "_view_count": null,
            "_view_module": "@jupyter-widgets/base",
            "_view_module_version": "1.2.0",
            "_view_name": "StyleView",
            "description_width": ""
          }
        },
        "df12a56f91e844f0a5fc8b681da9e744": {
          "model_module": "@jupyter-widgets/controls",
          "model_name": "HBoxModel",
          "model_module_version": "1.5.0",
          "state": {
            "_dom_classes": [],
            "_model_module": "@jupyter-widgets/controls",
            "_model_module_version": "1.5.0",
            "_model_name": "HBoxModel",
            "_view_count": null,
            "_view_module": "@jupyter-widgets/controls",
            "_view_module_version": "1.5.0",
            "_view_name": "HBoxView",
            "box_style": "",
            "children": [
              "IPY_MODEL_7dd6227e7b5e4a3c8f36ffc550f1dab3",
              "IPY_MODEL_b4d8abca962b4e56be467ec972ffc28d",
              "IPY_MODEL_fa2ec1a733c74734a880e8dec72ae0cc"
            ],
            "layout": "IPY_MODEL_d8983b3f0fe841fb821164a1b6062cd2"
          }
        },
        "7dd6227e7b5e4a3c8f36ffc550f1dab3": {
          "model_module": "@jupyter-widgets/controls",
          "model_name": "HTMLModel",
          "model_module_version": "1.5.0",
          "state": {
            "_dom_classes": [],
            "_model_module": "@jupyter-widgets/controls",
            "_model_module_version": "1.5.0",
            "_model_name": "HTMLModel",
            "_view_count": null,
            "_view_module": "@jupyter-widgets/controls",
            "_view_module_version": "1.5.0",
            "_view_name": "HTMLView",
            "description": "",
            "description_tooltip": null,
            "layout": "IPY_MODEL_f050cc23daef4fc6920bdd8608aec1bd",
            "placeholder": "​",
            "style": "IPY_MODEL_07b75b0590d845118fcb93b759f34538",
            "value": "Epoch 0: 100%"
          }
        },
        "b4d8abca962b4e56be467ec972ffc28d": {
          "model_module": "@jupyter-widgets/controls",
          "model_name": "FloatProgressModel",
          "model_module_version": "1.5.0",
          "state": {
            "_dom_classes": [],
            "_model_module": "@jupyter-widgets/controls",
            "_model_module_version": "1.5.0",
            "_model_name": "FloatProgressModel",
            "_view_count": null,
            "_view_module": "@jupyter-widgets/controls",
            "_view_module_version": "1.5.0",
            "_view_name": "ProgressView",
            "bar_style": "success",
            "description": "",
            "description_tooltip": null,
            "layout": "IPY_MODEL_e87372da53a1489fbad4f251e4c586f0",
            "max": 44000,
            "min": 0,
            "orientation": "horizontal",
            "style": "IPY_MODEL_74e028a3193e4f16984004071798b55c",
            "value": 44000
          }
        },
        "fa2ec1a733c74734a880e8dec72ae0cc": {
          "model_module": "@jupyter-widgets/controls",
          "model_name": "HTMLModel",
          "model_module_version": "1.5.0",
          "state": {
            "_dom_classes": [],
            "_model_module": "@jupyter-widgets/controls",
            "_model_module_version": "1.5.0",
            "_model_name": "HTMLModel",
            "_view_count": null,
            "_view_module": "@jupyter-widgets/controls",
            "_view_module_version": "1.5.0",
            "_view_name": "HTMLView",
            "description": "",
            "description_tooltip": null,
            "layout": "IPY_MODEL_871725b5f6ff4741ad68c2989a502ea5",
            "placeholder": "​",
            "style": "IPY_MODEL_428404d9d45c46cc8610559d6d843f72",
            "value": " 44000/44000 [1:21:36&lt;00:00,  8.99it/s, v_num=x39o, loss=0.0726, val_loss=0.0707, val_auc=0.657]"
          }
        },
        "d8983b3f0fe841fb821164a1b6062cd2": {
          "model_module": "@jupyter-widgets/base",
          "model_name": "LayoutModel",
          "model_module_version": "1.2.0",
          "state": {
            "_model_module": "@jupyter-widgets/base",
            "_model_module_version": "1.2.0",
            "_model_name": "LayoutModel",
            "_view_count": null,
            "_view_module": "@jupyter-widgets/base",
            "_view_module_version": "1.2.0",
            "_view_name": "LayoutView",
            "align_content": null,
            "align_items": null,
            "align_self": null,
            "border": null,
            "bottom": null,
            "display": "inline-flex",
            "flex": null,
            "flex_flow": "row wrap",
            "grid_area": null,
            "grid_auto_columns": null,
            "grid_auto_flow": null,
            "grid_auto_rows": null,
            "grid_column": null,
            "grid_gap": null,
            "grid_row": null,
            "grid_template_areas": null,
            "grid_template_columns": null,
            "grid_template_rows": null,
            "height": null,
            "justify_content": null,
            "justify_items": null,
            "left": null,
            "margin": null,
            "max_height": null,
            "max_width": null,
            "min_height": null,
            "min_width": null,
            "object_fit": null,
            "object_position": null,
            "order": null,
            "overflow": null,
            "overflow_x": null,
            "overflow_y": null,
            "padding": null,
            "right": null,
            "top": null,
            "visibility": null,
            "width": "100%"
          }
        },
        "f050cc23daef4fc6920bdd8608aec1bd": {
          "model_module": "@jupyter-widgets/base",
          "model_name": "LayoutModel",
          "model_module_version": "1.2.0",
          "state": {
            "_model_module": "@jupyter-widgets/base",
            "_model_module_version": "1.2.0",
            "_model_name": "LayoutModel",
            "_view_count": null,
            "_view_module": "@jupyter-widgets/base",
            "_view_module_version": "1.2.0",
            "_view_name": "LayoutView",
            "align_content": null,
            "align_items": null,
            "align_self": null,
            "border": null,
            "bottom": null,
            "display": null,
            "flex": null,
            "flex_flow": null,
            "grid_area": null,
            "grid_auto_columns": null,
            "grid_auto_flow": null,
            "grid_auto_rows": null,
            "grid_column": null,
            "grid_gap": null,
            "grid_row": null,
            "grid_template_areas": null,
            "grid_template_columns": null,
            "grid_template_rows": null,
            "height": null,
            "justify_content": null,
            "justify_items": null,
            "left": null,
            "margin": null,
            "max_height": null,
            "max_width": null,
            "min_height": null,
            "min_width": null,
            "object_fit": null,
            "object_position": null,
            "order": null,
            "overflow": null,
            "overflow_x": null,
            "overflow_y": null,
            "padding": null,
            "right": null,
            "top": null,
            "visibility": null,
            "width": null
          }
        },
        "07b75b0590d845118fcb93b759f34538": {
          "model_module": "@jupyter-widgets/controls",
          "model_name": "DescriptionStyleModel",
          "model_module_version": "1.5.0",
          "state": {
            "_model_module": "@jupyter-widgets/controls",
            "_model_module_version": "1.5.0",
            "_model_name": "DescriptionStyleModel",
            "_view_count": null,
            "_view_module": "@jupyter-widgets/base",
            "_view_module_version": "1.2.0",
            "_view_name": "StyleView",
            "description_width": ""
          }
        },
        "e87372da53a1489fbad4f251e4c586f0": {
          "model_module": "@jupyter-widgets/base",
          "model_name": "LayoutModel",
          "model_module_version": "1.2.0",
          "state": {
            "_model_module": "@jupyter-widgets/base",
            "_model_module_version": "1.2.0",
            "_model_name": "LayoutModel",
            "_view_count": null,
            "_view_module": "@jupyter-widgets/base",
            "_view_module_version": "1.2.0",
            "_view_name": "LayoutView",
            "align_content": null,
            "align_items": null,
            "align_self": null,
            "border": null,
            "bottom": null,
            "display": null,
            "flex": "2",
            "flex_flow": null,
            "grid_area": null,
            "grid_auto_columns": null,
            "grid_auto_flow": null,
            "grid_auto_rows": null,
            "grid_column": null,
            "grid_gap": null,
            "grid_row": null,
            "grid_template_areas": null,
            "grid_template_columns": null,
            "grid_template_rows": null,
            "height": null,
            "justify_content": null,
            "justify_items": null,
            "left": null,
            "margin": null,
            "max_height": null,
            "max_width": null,
            "min_height": null,
            "min_width": null,
            "object_fit": null,
            "object_position": null,
            "order": null,
            "overflow": null,
            "overflow_x": null,
            "overflow_y": null,
            "padding": null,
            "right": null,
            "top": null,
            "visibility": null,
            "width": null
          }
        },
        "74e028a3193e4f16984004071798b55c": {
          "model_module": "@jupyter-widgets/controls",
          "model_name": "ProgressStyleModel",
          "model_module_version": "1.5.0",
          "state": {
            "_model_module": "@jupyter-widgets/controls",
            "_model_module_version": "1.5.0",
            "_model_name": "ProgressStyleModel",
            "_view_count": null,
            "_view_module": "@jupyter-widgets/base",
            "_view_module_version": "1.2.0",
            "_view_name": "StyleView",
            "bar_color": null,
            "description_width": ""
          }
        },
        "871725b5f6ff4741ad68c2989a502ea5": {
          "model_module": "@jupyter-widgets/base",
          "model_name": "LayoutModel",
          "model_module_version": "1.2.0",
          "state": {
            "_model_module": "@jupyter-widgets/base",
            "_model_module_version": "1.2.0",
            "_model_name": "LayoutModel",
            "_view_count": null,
            "_view_module": "@jupyter-widgets/base",
            "_view_module_version": "1.2.0",
            "_view_name": "LayoutView",
            "align_content": null,
            "align_items": null,
            "align_self": null,
            "border": null,
            "bottom": null,
            "display": null,
            "flex": null,
            "flex_flow": null,
            "grid_area": null,
            "grid_auto_columns": null,
            "grid_auto_flow": null,
            "grid_auto_rows": null,
            "grid_column": null,
            "grid_gap": null,
            "grid_row": null,
            "grid_template_areas": null,
            "grid_template_columns": null,
            "grid_template_rows": null,
            "height": null,
            "justify_content": null,
            "justify_items": null,
            "left": null,
            "margin": null,
            "max_height": null,
            "max_width": null,
            "min_height": null,
            "min_width": null,
            "object_fit": null,
            "object_position": null,
            "order": null,
            "overflow": null,
            "overflow_x": null,
            "overflow_y": null,
            "padding": null,
            "right": null,
            "top": null,
            "visibility": null,
            "width": null
          }
        },
        "428404d9d45c46cc8610559d6d843f72": {
          "model_module": "@jupyter-widgets/controls",
          "model_name": "DescriptionStyleModel",
          "model_module_version": "1.5.0",
          "state": {
            "_model_module": "@jupyter-widgets/controls",
            "_model_module_version": "1.5.0",
            "_model_name": "DescriptionStyleModel",
            "_view_count": null,
            "_view_module": "@jupyter-widgets/base",
            "_view_module_version": "1.2.0",
            "_view_name": "StyleView",
            "description_width": ""
          }
        },
        "5d4574271f3b4fb181d747b337f8dd3d": {
          "model_module": "@jupyter-widgets/controls",
          "model_name": "HBoxModel",
          "model_module_version": "1.5.0",
          "state": {
            "_dom_classes": [],
            "_model_module": "@jupyter-widgets/controls",
            "_model_module_version": "1.5.0",
            "_model_name": "HBoxModel",
            "_view_count": null,
            "_view_module": "@jupyter-widgets/controls",
            "_view_module_version": "1.5.0",
            "_view_name": "HBoxView",
            "box_style": "",
            "children": [
              "IPY_MODEL_75cf410a655048ec829add94c8906bdf",
              "IPY_MODEL_425723a5d5f248bfa753252198ebd098",
              "IPY_MODEL_31fac9a7b2ae4d93bed6c1dfa1dfff42"
            ],
            "layout": "IPY_MODEL_d525456c92b64939ad63a9e082862c65"
          }
        },
        "75cf410a655048ec829add94c8906bdf": {
          "model_module": "@jupyter-widgets/controls",
          "model_name": "HTMLModel",
          "model_module_version": "1.5.0",
          "state": {
            "_dom_classes": [],
            "_model_module": "@jupyter-widgets/controls",
            "_model_module_version": "1.5.0",
            "_model_name": "HTMLModel",
            "_view_count": null,
            "_view_module": "@jupyter-widgets/controls",
            "_view_module_version": "1.5.0",
            "_view_name": "HTMLView",
            "description": "",
            "description_tooltip": null,
            "layout": "IPY_MODEL_f6a13b76cf3e40f1bceec9c5de37ef31",
            "placeholder": "​",
            "style": "IPY_MODEL_5be3c99643714785a7b1c521e04f13c8",
            "value": "Validation DataLoader 0: 100%"
          }
        },
        "425723a5d5f248bfa753252198ebd098": {
          "model_module": "@jupyter-widgets/controls",
          "model_name": "FloatProgressModel",
          "model_module_version": "1.5.0",
          "state": {
            "_dom_classes": [],
            "_model_module": "@jupyter-widgets/controls",
            "_model_module_version": "1.5.0",
            "_model_name": "FloatProgressModel",
            "_view_count": null,
            "_view_module": "@jupyter-widgets/controls",
            "_view_module_version": "1.5.0",
            "_view_name": "ProgressView",
            "bar_style": "",
            "description": "",
            "description_tooltip": null,
            "layout": "IPY_MODEL_45d906768dd74693999470f620de0345",
            "max": 11000,
            "min": 0,
            "orientation": "horizontal",
            "style": "IPY_MODEL_3d8a0f7500e64f6cb725147afb39e4db",
            "value": 11000
          }
        },
        "31fac9a7b2ae4d93bed6c1dfa1dfff42": {
          "model_module": "@jupyter-widgets/controls",
          "model_name": "HTMLModel",
          "model_module_version": "1.5.0",
          "state": {
            "_dom_classes": [],
            "_model_module": "@jupyter-widgets/controls",
            "_model_module_version": "1.5.0",
            "_model_name": "HTMLModel",
            "_view_count": null,
            "_view_module": "@jupyter-widgets/controls",
            "_view_module_version": "1.5.0",
            "_view_name": "HTMLView",
            "description": "",
            "description_tooltip": null,
            "layout": "IPY_MODEL_d598b5a838fe432b933cd1993b58fce6",
            "placeholder": "​",
            "style": "IPY_MODEL_d755bf20f77b47499e6c13c9259bdca2",
            "value": " 11000/11000 [43:16&lt;00:00,  4.24it/s]"
          }
        },
        "d525456c92b64939ad63a9e082862c65": {
          "model_module": "@jupyter-widgets/base",
          "model_name": "LayoutModel",
          "model_module_version": "1.2.0",
          "state": {
            "_model_module": "@jupyter-widgets/base",
            "_model_module_version": "1.2.0",
            "_model_name": "LayoutModel",
            "_view_count": null,
            "_view_module": "@jupyter-widgets/base",
            "_view_module_version": "1.2.0",
            "_view_name": "LayoutView",
            "align_content": null,
            "align_items": null,
            "align_self": null,
            "border": null,
            "bottom": null,
            "display": "inline-flex",
            "flex": null,
            "flex_flow": "row wrap",
            "grid_area": null,
            "grid_auto_columns": null,
            "grid_auto_flow": null,
            "grid_auto_rows": null,
            "grid_column": null,
            "grid_gap": null,
            "grid_row": null,
            "grid_template_areas": null,
            "grid_template_columns": null,
            "grid_template_rows": null,
            "height": null,
            "justify_content": null,
            "justify_items": null,
            "left": null,
            "margin": null,
            "max_height": null,
            "max_width": null,
            "min_height": null,
            "min_width": null,
            "object_fit": null,
            "object_position": null,
            "order": null,
            "overflow": null,
            "overflow_x": null,
            "overflow_y": null,
            "padding": null,
            "right": null,
            "top": null,
            "visibility": "hidden",
            "width": "100%"
          }
        },
        "f6a13b76cf3e40f1bceec9c5de37ef31": {
          "model_module": "@jupyter-widgets/base",
          "model_name": "LayoutModel",
          "model_module_version": "1.2.0",
          "state": {
            "_model_module": "@jupyter-widgets/base",
            "_model_module_version": "1.2.0",
            "_model_name": "LayoutModel",
            "_view_count": null,
            "_view_module": "@jupyter-widgets/base",
            "_view_module_version": "1.2.0",
            "_view_name": "LayoutView",
            "align_content": null,
            "align_items": null,
            "align_self": null,
            "border": null,
            "bottom": null,
            "display": null,
            "flex": null,
            "flex_flow": null,
            "grid_area": null,
            "grid_auto_columns": null,
            "grid_auto_flow": null,
            "grid_auto_rows": null,
            "grid_column": null,
            "grid_gap": null,
            "grid_row": null,
            "grid_template_areas": null,
            "grid_template_columns": null,
            "grid_template_rows": null,
            "height": null,
            "justify_content": null,
            "justify_items": null,
            "left": null,
            "margin": null,
            "max_height": null,
            "max_width": null,
            "min_height": null,
            "min_width": null,
            "object_fit": null,
            "object_position": null,
            "order": null,
            "overflow": null,
            "overflow_x": null,
            "overflow_y": null,
            "padding": null,
            "right": null,
            "top": null,
            "visibility": null,
            "width": null
          }
        },
        "5be3c99643714785a7b1c521e04f13c8": {
          "model_module": "@jupyter-widgets/controls",
          "model_name": "DescriptionStyleModel",
          "model_module_version": "1.5.0",
          "state": {
            "_model_module": "@jupyter-widgets/controls",
            "_model_module_version": "1.5.0",
            "_model_name": "DescriptionStyleModel",
            "_view_count": null,
            "_view_module": "@jupyter-widgets/base",
            "_view_module_version": "1.2.0",
            "_view_name": "StyleView",
            "description_width": ""
          }
        },
        "45d906768dd74693999470f620de0345": {
          "model_module": "@jupyter-widgets/base",
          "model_name": "LayoutModel",
          "model_module_version": "1.2.0",
          "state": {
            "_model_module": "@jupyter-widgets/base",
            "_model_module_version": "1.2.0",
            "_model_name": "LayoutModel",
            "_view_count": null,
            "_view_module": "@jupyter-widgets/base",
            "_view_module_version": "1.2.0",
            "_view_name": "LayoutView",
            "align_content": null,
            "align_items": null,
            "align_self": null,
            "border": null,
            "bottom": null,
            "display": null,
            "flex": "2",
            "flex_flow": null,
            "grid_area": null,
            "grid_auto_columns": null,
            "grid_auto_flow": null,
            "grid_auto_rows": null,
            "grid_column": null,
            "grid_gap": null,
            "grid_row": null,
            "grid_template_areas": null,
            "grid_template_columns": null,
            "grid_template_rows": null,
            "height": null,
            "justify_content": null,
            "justify_items": null,
            "left": null,
            "margin": null,
            "max_height": null,
            "max_width": null,
            "min_height": null,
            "min_width": null,
            "object_fit": null,
            "object_position": null,
            "order": null,
            "overflow": null,
            "overflow_x": null,
            "overflow_y": null,
            "padding": null,
            "right": null,
            "top": null,
            "visibility": null,
            "width": null
          }
        },
        "3d8a0f7500e64f6cb725147afb39e4db": {
          "model_module": "@jupyter-widgets/controls",
          "model_name": "ProgressStyleModel",
          "model_module_version": "1.5.0",
          "state": {
            "_model_module": "@jupyter-widgets/controls",
            "_model_module_version": "1.5.0",
            "_model_name": "ProgressStyleModel",
            "_view_count": null,
            "_view_module": "@jupyter-widgets/base",
            "_view_module_version": "1.2.0",
            "_view_name": "StyleView",
            "bar_color": null,
            "description_width": ""
          }
        },
        "d598b5a838fe432b933cd1993b58fce6": {
          "model_module": "@jupyter-widgets/base",
          "model_name": "LayoutModel",
          "model_module_version": "1.2.0",
          "state": {
            "_model_module": "@jupyter-widgets/base",
            "_model_module_version": "1.2.0",
            "_model_name": "LayoutModel",
            "_view_count": null,
            "_view_module": "@jupyter-widgets/base",
            "_view_module_version": "1.2.0",
            "_view_name": "LayoutView",
            "align_content": null,
            "align_items": null,
            "align_self": null,
            "border": null,
            "bottom": null,
            "display": null,
            "flex": null,
            "flex_flow": null,
            "grid_area": null,
            "grid_auto_columns": null,
            "grid_auto_flow": null,
            "grid_auto_rows": null,
            "grid_column": null,
            "grid_gap": null,
            "grid_row": null,
            "grid_template_areas": null,
            "grid_template_columns": null,
            "grid_template_rows": null,
            "height": null,
            "justify_content": null,
            "justify_items": null,
            "left": null,
            "margin": null,
            "max_height": null,
            "max_width": null,
            "min_height": null,
            "min_width": null,
            "object_fit": null,
            "object_position": null,
            "order": null,
            "overflow": null,
            "overflow_x": null,
            "overflow_y": null,
            "padding": null,
            "right": null,
            "top": null,
            "visibility": null,
            "width": null
          }
        },
        "d755bf20f77b47499e6c13c9259bdca2": {
          "model_module": "@jupyter-widgets/controls",
          "model_name": "DescriptionStyleModel",
          "model_module_version": "1.5.0",
          "state": {
            "_model_module": "@jupyter-widgets/controls",
            "_model_module_version": "1.5.0",
            "_model_name": "DescriptionStyleModel",
            "_view_count": null,
            "_view_module": "@jupyter-widgets/base",
            "_view_module_version": "1.2.0",
            "_view_name": "StyleView",
            "description_width": ""
          }
        },
        "659f8416557946d7bf8e2a415299997f": {
          "model_module": "@jupyter-widgets/controls",
          "model_name": "HBoxModel",
          "model_module_version": "1.5.0",
          "state": {
            "_dom_classes": [],
            "_model_module": "@jupyter-widgets/controls",
            "_model_module_version": "1.5.0",
            "_model_name": "HBoxModel",
            "_view_count": null,
            "_view_module": "@jupyter-widgets/controls",
            "_view_module_version": "1.5.0",
            "_view_name": "HBoxView",
            "box_style": "",
            "children": [
              "IPY_MODEL_c48bc9c5bc904e9da9f60c02550d49b4",
              "IPY_MODEL_69d5e8224db0497f9d1b5e6c1a8cc662",
              "IPY_MODEL_c76460e6272b45fea91bd35a0d9ddc1f"
            ],
            "layout": "IPY_MODEL_5497c5dca2c840a5bc7a0918eb28ba16"
          }
        },
        "c48bc9c5bc904e9da9f60c02550d49b4": {
          "model_module": "@jupyter-widgets/controls",
          "model_name": "HTMLModel",
          "model_module_version": "1.5.0",
          "state": {
            "_dom_classes": [],
            "_model_module": "@jupyter-widgets/controls",
            "_model_module_version": "1.5.0",
            "_model_name": "HTMLModel",
            "_view_count": null,
            "_view_module": "@jupyter-widgets/controls",
            "_view_module_version": "1.5.0",
            "_view_name": "HTMLView",
            "description": "",
            "description_tooltip": null,
            "layout": "IPY_MODEL_8387a519aba24a76a09f428a35fc1c94",
            "placeholder": "​",
            "style": "IPY_MODEL_54ce08c5121948ca87249c4442d00664",
            "value": "Predicting DataLoader 0: 100%"
          }
        },
        "69d5e8224db0497f9d1b5e6c1a8cc662": {
          "model_module": "@jupyter-widgets/controls",
          "model_name": "FloatProgressModel",
          "model_module_version": "1.5.0",
          "state": {
            "_dom_classes": [],
            "_model_module": "@jupyter-widgets/controls",
            "_model_module_version": "1.5.0",
            "_model_name": "FloatProgressModel",
            "_view_count": null,
            "_view_module": "@jupyter-widgets/controls",
            "_view_module_version": "1.5.0",
            "_view_name": "ProgressView",
            "bar_style": "success",
            "description": "",
            "description_tooltip": null,
            "layout": "IPY_MODEL_da3a644fc17a4685a1219a4265e86f39",
            "max": 6000,
            "min": 0,
            "orientation": "horizontal",
            "style": "IPY_MODEL_f15272a0a1364daebe6c1a04c4099bb2",
            "value": 6000
          }
        },
        "c76460e6272b45fea91bd35a0d9ddc1f": {
          "model_module": "@jupyter-widgets/controls",
          "model_name": "HTMLModel",
          "model_module_version": "1.5.0",
          "state": {
            "_dom_classes": [],
            "_model_module": "@jupyter-widgets/controls",
            "_model_module_version": "1.5.0",
            "_model_name": "HTMLModel",
            "_view_count": null,
            "_view_module": "@jupyter-widgets/controls",
            "_view_module_version": "1.5.0",
            "_view_name": "HTMLView",
            "description": "",
            "description_tooltip": null,
            "layout": "IPY_MODEL_23a1e8268e6346af9ce5dd7193decb48",
            "placeholder": "​",
            "style": "IPY_MODEL_6fa59a5700414b828692614ba73d646e",
            "value": " 6000/6000 [03:22&lt;00:00, 29.65it/s]"
          }
        },
        "5497c5dca2c840a5bc7a0918eb28ba16": {
          "model_module": "@jupyter-widgets/base",
          "model_name": "LayoutModel",
          "model_module_version": "1.2.0",
          "state": {
            "_model_module": "@jupyter-widgets/base",
            "_model_module_version": "1.2.0",
            "_model_name": "LayoutModel",
            "_view_count": null,
            "_view_module": "@jupyter-widgets/base",
            "_view_module_version": "1.2.0",
            "_view_name": "LayoutView",
            "align_content": null,
            "align_items": null,
            "align_self": null,
            "border": null,
            "bottom": null,
            "display": "inline-flex",
            "flex": null,
            "flex_flow": "row wrap",
            "grid_area": null,
            "grid_auto_columns": null,
            "grid_auto_flow": null,
            "grid_auto_rows": null,
            "grid_column": null,
            "grid_gap": null,
            "grid_row": null,
            "grid_template_areas": null,
            "grid_template_columns": null,
            "grid_template_rows": null,
            "height": null,
            "justify_content": null,
            "justify_items": null,
            "left": null,
            "margin": null,
            "max_height": null,
            "max_width": null,
            "min_height": null,
            "min_width": null,
            "object_fit": null,
            "object_position": null,
            "order": null,
            "overflow": null,
            "overflow_x": null,
            "overflow_y": null,
            "padding": null,
            "right": null,
            "top": null,
            "visibility": null,
            "width": "100%"
          }
        },
        "8387a519aba24a76a09f428a35fc1c94": {
          "model_module": "@jupyter-widgets/base",
          "model_name": "LayoutModel",
          "model_module_version": "1.2.0",
          "state": {
            "_model_module": "@jupyter-widgets/base",
            "_model_module_version": "1.2.0",
            "_model_name": "LayoutModel",
            "_view_count": null,
            "_view_module": "@jupyter-widgets/base",
            "_view_module_version": "1.2.0",
            "_view_name": "LayoutView",
            "align_content": null,
            "align_items": null,
            "align_self": null,
            "border": null,
            "bottom": null,
            "display": null,
            "flex": null,
            "flex_flow": null,
            "grid_area": null,
            "grid_auto_columns": null,
            "grid_auto_flow": null,
            "grid_auto_rows": null,
            "grid_column": null,
            "grid_gap": null,
            "grid_row": null,
            "grid_template_areas": null,
            "grid_template_columns": null,
            "grid_template_rows": null,
            "height": null,
            "justify_content": null,
            "justify_items": null,
            "left": null,
            "margin": null,
            "max_height": null,
            "max_width": null,
            "min_height": null,
            "min_width": null,
            "object_fit": null,
            "object_position": null,
            "order": null,
            "overflow": null,
            "overflow_x": null,
            "overflow_y": null,
            "padding": null,
            "right": null,
            "top": null,
            "visibility": null,
            "width": null
          }
        },
        "54ce08c5121948ca87249c4442d00664": {
          "model_module": "@jupyter-widgets/controls",
          "model_name": "DescriptionStyleModel",
          "model_module_version": "1.5.0",
          "state": {
            "_model_module": "@jupyter-widgets/controls",
            "_model_module_version": "1.5.0",
            "_model_name": "DescriptionStyleModel",
            "_view_count": null,
            "_view_module": "@jupyter-widgets/base",
            "_view_module_version": "1.2.0",
            "_view_name": "StyleView",
            "description_width": ""
          }
        },
        "da3a644fc17a4685a1219a4265e86f39": {
          "model_module": "@jupyter-widgets/base",
          "model_name": "LayoutModel",
          "model_module_version": "1.2.0",
          "state": {
            "_model_module": "@jupyter-widgets/base",
            "_model_module_version": "1.2.0",
            "_model_name": "LayoutModel",
            "_view_count": null,
            "_view_module": "@jupyter-widgets/base",
            "_view_module_version": "1.2.0",
            "_view_name": "LayoutView",
            "align_content": null,
            "align_items": null,
            "align_self": null,
            "border": null,
            "bottom": null,
            "display": null,
            "flex": "2",
            "flex_flow": null,
            "grid_area": null,
            "grid_auto_columns": null,
            "grid_auto_flow": null,
            "grid_auto_rows": null,
            "grid_column": null,
            "grid_gap": null,
            "grid_row": null,
            "grid_template_areas": null,
            "grid_template_columns": null,
            "grid_template_rows": null,
            "height": null,
            "justify_content": null,
            "justify_items": null,
            "left": null,
            "margin": null,
            "max_height": null,
            "max_width": null,
            "min_height": null,
            "min_width": null,
            "object_fit": null,
            "object_position": null,
            "order": null,
            "overflow": null,
            "overflow_x": null,
            "overflow_y": null,
            "padding": null,
            "right": null,
            "top": null,
            "visibility": null,
            "width": null
          }
        },
        "f15272a0a1364daebe6c1a04c4099bb2": {
          "model_module": "@jupyter-widgets/controls",
          "model_name": "ProgressStyleModel",
          "model_module_version": "1.5.0",
          "state": {
            "_model_module": "@jupyter-widgets/controls",
            "_model_module_version": "1.5.0",
            "_model_name": "ProgressStyleModel",
            "_view_count": null,
            "_view_module": "@jupyter-widgets/base",
            "_view_module_version": "1.2.0",
            "_view_name": "StyleView",
            "bar_color": null,
            "description_width": ""
          }
        },
        "23a1e8268e6346af9ce5dd7193decb48": {
          "model_module": "@jupyter-widgets/base",
          "model_name": "LayoutModel",
          "model_module_version": "1.2.0",
          "state": {
            "_model_module": "@jupyter-widgets/base",
            "_model_module_version": "1.2.0",
            "_model_name": "LayoutModel",
            "_view_count": null,
            "_view_module": "@jupyter-widgets/base",
            "_view_module_version": "1.2.0",
            "_view_name": "LayoutView",
            "align_content": null,
            "align_items": null,
            "align_self": null,
            "border": null,
            "bottom": null,
            "display": null,
            "flex": null,
            "flex_flow": null,
            "grid_area": null,
            "grid_auto_columns": null,
            "grid_auto_flow": null,
            "grid_auto_rows": null,
            "grid_column": null,
            "grid_gap": null,
            "grid_row": null,
            "grid_template_areas": null,
            "grid_template_columns": null,
            "grid_template_rows": null,
            "height": null,
            "justify_content": null,
            "justify_items": null,
            "left": null,
            "margin": null,
            "max_height": null,
            "max_width": null,
            "min_height": null,
            "min_width": null,
            "object_fit": null,
            "object_position": null,
            "order": null,
            "overflow": null,
            "overflow_x": null,
            "overflow_y": null,
            "padding": null,
            "right": null,
            "top": null,
            "visibility": null,
            "width": null
          }
        },
        "6fa59a5700414b828692614ba73d646e": {
          "model_module": "@jupyter-widgets/controls",
          "model_name": "DescriptionStyleModel",
          "model_module_version": "1.5.0",
          "state": {
            "_model_module": "@jupyter-widgets/controls",
            "_model_module_version": "1.5.0",
            "_model_name": "DescriptionStyleModel",
            "_view_count": null,
            "_view_module": "@jupyter-widgets/base",
            "_view_module_version": "1.2.0",
            "_view_name": "StyleView",
            "description_width": ""
          }
        }
      }
    }
  },
  "nbformat": 4,
  "nbformat_minor": 5
}